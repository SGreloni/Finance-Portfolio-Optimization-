{
 "cells": [
  {
   "cell_type": "markdown",
   "id": "88440828",
   "metadata": {},
   "source": [
    "# Excercise 1"
   ]
  },
  {
   "cell_type": "code",
   "execution_count": 1,
   "id": "057da27a",
   "metadata": {},
   "outputs": [],
   "source": [
    "import pandas as pd\n",
    "import numpy as np\n",
    "import numpy.linalg as alg\n",
    "import matplotlib.pyplot as plt\n",
    "import os\n",
    "from pypfopt.efficient_frontier import EfficientFrontier\n",
    "from pypfopt.black_litterman import BlackLittermanModel\n",
    "from scipy import stats"
   ]
  },
  {
   "cell_type": "markdown",
   "id": "5fc11f16",
   "metadata": {},
   "source": [
    "### Load Data"
   ]
  },
  {
   "cell_type": "code",
   "execution_count": 2,
   "id": "d3f7d651",
   "metadata": {},
   "outputs": [],
   "source": [
    "#Read excel and remove first two rows\n",
    "\n",
    "stocks_daily = pd.read_excel(\"data for exam 2022.xlsx\", \"stocks daily\", index_col = \"Name\")\n",
    "stocks_daily = stocks_daily.iloc[2:]\n",
    "stocks_daily = stocks_daily.astype(\"float32\")"
   ]
  },
  {
   "cell_type": "code",
   "execution_count": 3,
   "id": "0c692043",
   "metadata": {},
   "outputs": [
    {
     "data": {
      "text/plain": [
       "LEONARDO          0\n",
       "ECOSUNTEK         0\n",
       "LANDI RENZO       0\n",
       "PIRELLI & C     719\n",
       "STELLANTIS        0\n",
       "               ... \n",
       "BEGHELLI          0\n",
       "SOL               0\n",
       "DATALOGIC         0\n",
       "BIESSE            0\n",
       "SAFILO GROUP      0\n",
       "Length: 88, dtype: int64"
      ]
     },
     "execution_count": 3,
     "metadata": {},
     "output_type": "execute_result"
    }
   ],
   "source": [
    "#See NAs\n",
    "\n",
    "stocks_daily.isna().sum()"
   ]
  },
  {
   "cell_type": "markdown",
   "id": "963136ca",
   "metadata": {},
   "source": [
    "### 1."
   ]
  },
  {
   "cell_type": "code",
   "execution_count": 4,
   "id": "7863eeb5",
   "metadata": {},
   "outputs": [],
   "source": [
    "if not os.path.exists(\"descriptive_statistics\"):\n",
    "    os.makedirs(\"descriptive_statistics\")"
   ]
  },
  {
   "cell_type": "markdown",
   "id": "66f17886",
   "metadata": {},
   "source": [
    "#### Compute returns"
   ]
  },
  {
   "cell_type": "code",
   "execution_count": 5,
   "id": "b98f3c61",
   "metadata": {},
   "outputs": [
    {
     "data": {
      "text/html": [
       "<div>\n",
       "<style scoped>\n",
       "    .dataframe tbody tr th:only-of-type {\n",
       "        vertical-align: middle;\n",
       "    }\n",
       "\n",
       "    .dataframe tbody tr th {\n",
       "        vertical-align: top;\n",
       "    }\n",
       "\n",
       "    .dataframe thead th {\n",
       "        text-align: right;\n",
       "    }\n",
       "</style>\n",
       "<table border=\"1\" class=\"dataframe\">\n",
       "  <thead>\n",
       "    <tr style=\"text-align: right;\">\n",
       "      <th></th>\n",
       "      <th>LEONARDO</th>\n",
       "      <th>ECOSUNTEK</th>\n",
       "      <th>LANDI RENZO</th>\n",
       "      <th>PIRELLI &amp; C</th>\n",
       "      <th>STELLANTIS</th>\n",
       "      <th>PININFARINA</th>\n",
       "      <th>FRENI BREMBO</th>\n",
       "      <th>INTESA SANPAOLO</th>\n",
       "      <th>ILLIMITY BANK</th>\n",
       "      <th>UNICREDIT</th>\n",
       "      <th>...</th>\n",
       "      <th>GABETTI PROPERTY SLTN.</th>\n",
       "      <th>MFE B</th>\n",
       "      <th>ERG</th>\n",
       "      <th>CEMBRE</th>\n",
       "      <th>SABAF</th>\n",
       "      <th>BEGHELLI</th>\n",
       "      <th>SOL</th>\n",
       "      <th>DATALOGIC</th>\n",
       "      <th>BIESSE</th>\n",
       "      <th>SAFILO GROUP</th>\n",
       "    </tr>\n",
       "    <tr>\n",
       "      <th>Name</th>\n",
       "      <th></th>\n",
       "      <th></th>\n",
       "      <th></th>\n",
       "      <th></th>\n",
       "      <th></th>\n",
       "      <th></th>\n",
       "      <th></th>\n",
       "      <th></th>\n",
       "      <th></th>\n",
       "      <th></th>\n",
       "      <th></th>\n",
       "      <th></th>\n",
       "      <th></th>\n",
       "      <th></th>\n",
       "      <th></th>\n",
       "      <th></th>\n",
       "      <th></th>\n",
       "      <th></th>\n",
       "      <th></th>\n",
       "      <th></th>\n",
       "      <th></th>\n",
       "    </tr>\n",
       "  </thead>\n",
       "  <tbody>\n",
       "    <tr>\n",
       "      <th>2015-01-01</th>\n",
       "      <td>NaN</td>\n",
       "      <td>NaN</td>\n",
       "      <td>NaN</td>\n",
       "      <td>NaN</td>\n",
       "      <td>NaN</td>\n",
       "      <td>NaN</td>\n",
       "      <td>NaN</td>\n",
       "      <td>NaN</td>\n",
       "      <td>NaN</td>\n",
       "      <td>NaN</td>\n",
       "      <td>...</td>\n",
       "      <td>NaN</td>\n",
       "      <td>NaN</td>\n",
       "      <td>NaN</td>\n",
       "      <td>NaN</td>\n",
       "      <td>NaN</td>\n",
       "      <td>NaN</td>\n",
       "      <td>NaN</td>\n",
       "      <td>NaN</td>\n",
       "      <td>NaN</td>\n",
       "      <td>NaN</td>\n",
       "    </tr>\n",
       "    <tr>\n",
       "      <th>2015-01-02</th>\n",
       "      <td>-0.000646</td>\n",
       "      <td>0.000000</td>\n",
       "      <td>0.002020</td>\n",
       "      <td>NaN</td>\n",
       "      <td>0.007800</td>\n",
       "      <td>0.018395</td>\n",
       "      <td>0.004693</td>\n",
       "      <td>0.013212</td>\n",
       "      <td>NaN</td>\n",
       "      <td>0.018743</td>\n",
       "      <td>...</td>\n",
       "      <td>-0.007884</td>\n",
       "      <td>-0.002344</td>\n",
       "      <td>0.016748</td>\n",
       "      <td>0.018609</td>\n",
       "      <td>0.000000</td>\n",
       "      <td>-0.007472</td>\n",
       "      <td>0.001503</td>\n",
       "      <td>-0.002247</td>\n",
       "      <td>0.022436</td>\n",
       "      <td>0.014855</td>\n",
       "    </tr>\n",
       "    <tr>\n",
       "      <th>2015-01-05</th>\n",
       "      <td>-0.038810</td>\n",
       "      <td>0.000000</td>\n",
       "      <td>0.003528</td>\n",
       "      <td>NaN</td>\n",
       "      <td>-0.021703</td>\n",
       "      <td>-0.019971</td>\n",
       "      <td>-0.010061</td>\n",
       "      <td>-0.059495</td>\n",
       "      <td>NaN</td>\n",
       "      <td>-0.066237</td>\n",
       "      <td>...</td>\n",
       "      <td>-0.026895</td>\n",
       "      <td>-0.049554</td>\n",
       "      <td>-0.031881</td>\n",
       "      <td>0.002885</td>\n",
       "      <td>-0.005372</td>\n",
       "      <td>-0.008783</td>\n",
       "      <td>0.009752</td>\n",
       "      <td>-0.004505</td>\n",
       "      <td>0.040752</td>\n",
       "      <td>-0.029258</td>\n",
       "    </tr>\n",
       "    <tr>\n",
       "      <th>2015-01-06</th>\n",
       "      <td>-0.010767</td>\n",
       "      <td>0.000000</td>\n",
       "      <td>-0.010547</td>\n",
       "      <td>NaN</td>\n",
       "      <td>0.015863</td>\n",
       "      <td>-0.002536</td>\n",
       "      <td>-0.015971</td>\n",
       "      <td>-0.013865</td>\n",
       "      <td>NaN</td>\n",
       "      <td>-0.013793</td>\n",
       "      <td>...</td>\n",
       "      <td>0.000000</td>\n",
       "      <td>-0.027579</td>\n",
       "      <td>-0.002195</td>\n",
       "      <td>0.015340</td>\n",
       "      <td>-0.005400</td>\n",
       "      <td>-0.010127</td>\n",
       "      <td>-0.002972</td>\n",
       "      <td>-0.004525</td>\n",
       "      <td>0.043173</td>\n",
       "      <td>-0.021664</td>\n",
       "    </tr>\n",
       "    <tr>\n",
       "      <th>2015-01-07</th>\n",
       "      <td>0.015646</td>\n",
       "      <td>0.000000</td>\n",
       "      <td>0.007614</td>\n",
       "      <td>NaN</td>\n",
       "      <td>0.008831</td>\n",
       "      <td>0.007672</td>\n",
       "      <td>-0.010697</td>\n",
       "      <td>-0.012302</td>\n",
       "      <td>NaN</td>\n",
       "      <td>-0.009792</td>\n",
       "      <td>...</td>\n",
       "      <td>0.004397</td>\n",
       "      <td>0.001243</td>\n",
       "      <td>0.001650</td>\n",
       "      <td>-0.015109</td>\n",
       "      <td>-0.009955</td>\n",
       "      <td>0.005115</td>\n",
       "      <td>0.022355</td>\n",
       "      <td>0.005682</td>\n",
       "      <td>-0.024062</td>\n",
       "      <td>0.010597</td>\n",
       "    </tr>\n",
       "    <tr>\n",
       "      <th>...</th>\n",
       "      <td>...</td>\n",
       "      <td>...</td>\n",
       "      <td>...</td>\n",
       "      <td>...</td>\n",
       "      <td>...</td>\n",
       "      <td>...</td>\n",
       "      <td>...</td>\n",
       "      <td>...</td>\n",
       "      <td>...</td>\n",
       "      <td>...</td>\n",
       "      <td>...</td>\n",
       "      <td>...</td>\n",
       "      <td>...</td>\n",
       "      <td>...</td>\n",
       "      <td>...</td>\n",
       "      <td>...</td>\n",
       "      <td>...</td>\n",
       "      <td>...</td>\n",
       "      <td>...</td>\n",
       "      <td>...</td>\n",
       "      <td>...</td>\n",
       "    </tr>\n",
       "    <tr>\n",
       "      <th>2022-06-20</th>\n",
       "      <td>0.003711</td>\n",
       "      <td>-0.023474</td>\n",
       "      <td>0.014570</td>\n",
       "      <td>0.004481</td>\n",
       "      <td>0.012422</td>\n",
       "      <td>0.024390</td>\n",
       "      <td>0.003083</td>\n",
       "      <td>0.038257</td>\n",
       "      <td>0.018164</td>\n",
       "      <td>0.044170</td>\n",
       "      <td>...</td>\n",
       "      <td>0.019108</td>\n",
       "      <td>0.019480</td>\n",
       "      <td>-0.000673</td>\n",
       "      <td>0.016529</td>\n",
       "      <td>0.012500</td>\n",
       "      <td>0.027397</td>\n",
       "      <td>-0.017544</td>\n",
       "      <td>0.015132</td>\n",
       "      <td>-0.009489</td>\n",
       "      <td>0.008124</td>\n",
       "    </tr>\n",
       "    <tr>\n",
       "      <th>2022-06-21</th>\n",
       "      <td>0.035120</td>\n",
       "      <td>0.024038</td>\n",
       "      <td>-0.001305</td>\n",
       "      <td>-0.003991</td>\n",
       "      <td>0.025024</td>\n",
       "      <td>-0.011905</td>\n",
       "      <td>0.004098</td>\n",
       "      <td>0.007156</td>\n",
       "      <td>-0.003756</td>\n",
       "      <td>0.008988</td>\n",
       "      <td>...</td>\n",
       "      <td>-0.018750</td>\n",
       "      <td>-0.014154</td>\n",
       "      <td>-0.001348</td>\n",
       "      <td>-0.004065</td>\n",
       "      <td>0.032922</td>\n",
       "      <td>-0.002667</td>\n",
       "      <td>0.000000</td>\n",
       "      <td>-0.000648</td>\n",
       "      <td>0.003685</td>\n",
       "      <td>0.026591</td>\n",
       "    </tr>\n",
       "    <tr>\n",
       "      <th>2022-06-22</th>\n",
       "      <td>-0.039683</td>\n",
       "      <td>-0.009390</td>\n",
       "      <td>0.014379</td>\n",
       "      <td>-0.009430</td>\n",
       "      <td>-0.017168</td>\n",
       "      <td>0.014458</td>\n",
       "      <td>0.001020</td>\n",
       "      <td>-0.002863</td>\n",
       "      <td>-0.004712</td>\n",
       "      <td>-0.010844</td>\n",
       "      <td>...</td>\n",
       "      <td>-0.055733</td>\n",
       "      <td>-0.022972</td>\n",
       "      <td>-0.013495</td>\n",
       "      <td>-0.020408</td>\n",
       "      <td>-0.015936</td>\n",
       "      <td>-0.016043</td>\n",
       "      <td>-0.003827</td>\n",
       "      <td>-0.007782</td>\n",
       "      <td>-0.023495</td>\n",
       "      <td>-0.011774</td>\n",
       "    </tr>\n",
       "    <tr>\n",
       "      <th>2022-06-23</th>\n",
       "      <td>-0.016529</td>\n",
       "      <td>0.000000</td>\n",
       "      <td>-0.009021</td>\n",
       "      <td>-0.056164</td>\n",
       "      <td>-0.021314</td>\n",
       "      <td>-0.004751</td>\n",
       "      <td>-0.040265</td>\n",
       "      <td>-0.021589</td>\n",
       "      <td>-0.012311</td>\n",
       "      <td>-0.039546</td>\n",
       "      <td>...</td>\n",
       "      <td>0.023609</td>\n",
       "      <td>-0.027921</td>\n",
       "      <td>0.013680</td>\n",
       "      <td>0.000000</td>\n",
       "      <td>-0.008097</td>\n",
       "      <td>0.000000</td>\n",
       "      <td>0.001280</td>\n",
       "      <td>-0.031373</td>\n",
       "      <td>-0.027820</td>\n",
       "      <td>-0.012708</td>\n",
       "    </tr>\n",
       "    <tr>\n",
       "      <th>2022-06-24</th>\n",
       "      <td>0.007353</td>\n",
       "      <td>0.023697</td>\n",
       "      <td>0.002601</td>\n",
       "      <td>0.022441</td>\n",
       "      <td>0.017521</td>\n",
       "      <td>0.000000</td>\n",
       "      <td>-0.005311</td>\n",
       "      <td>0.022935</td>\n",
       "      <td>0.018217</td>\n",
       "      <td>0.001223</td>\n",
       "      <td>...</td>\n",
       "      <td>-0.060956</td>\n",
       "      <td>0.010582</td>\n",
       "      <td>0.021592</td>\n",
       "      <td>0.033333</td>\n",
       "      <td>-0.006122</td>\n",
       "      <td>0.005435</td>\n",
       "      <td>0.012788</td>\n",
       "      <td>0.020918</td>\n",
       "      <td>0.032483</td>\n",
       "      <td>0.033789</td>\n",
       "    </tr>\n",
       "  </tbody>\n",
       "</table>\n",
       "<p>1952 rows × 88 columns</p>\n",
       "</div>"
      ],
      "text/plain": [
       "            LEONARDO  ECOSUNTEK  LANDI RENZO  PIRELLI & C  STELLANTIS  \\\n",
       "Name                                                                    \n",
       "2015-01-01       NaN        NaN          NaN          NaN         NaN   \n",
       "2015-01-02 -0.000646   0.000000     0.002020          NaN    0.007800   \n",
       "2015-01-05 -0.038810   0.000000     0.003528          NaN   -0.021703   \n",
       "2015-01-06 -0.010767   0.000000    -0.010547          NaN    0.015863   \n",
       "2015-01-07  0.015646   0.000000     0.007614          NaN    0.008831   \n",
       "...              ...        ...          ...          ...         ...   \n",
       "2022-06-20  0.003711  -0.023474     0.014570     0.004481    0.012422   \n",
       "2022-06-21  0.035120   0.024038    -0.001305    -0.003991    0.025024   \n",
       "2022-06-22 -0.039683  -0.009390     0.014379    -0.009430   -0.017168   \n",
       "2022-06-23 -0.016529   0.000000    -0.009021    -0.056164   -0.021314   \n",
       "2022-06-24  0.007353   0.023697     0.002601     0.022441    0.017521   \n",
       "\n",
       "            PININFARINA  FRENI BREMBO  INTESA SANPAOLO  ILLIMITY BANK  \\\n",
       "Name                                                                    \n",
       "2015-01-01          NaN           NaN              NaN            NaN   \n",
       "2015-01-02     0.018395      0.004693         0.013212            NaN   \n",
       "2015-01-05    -0.019971     -0.010061        -0.059495            NaN   \n",
       "2015-01-06    -0.002536     -0.015971        -0.013865            NaN   \n",
       "2015-01-07     0.007672     -0.010697        -0.012302            NaN   \n",
       "...                 ...           ...              ...            ...   \n",
       "2022-06-20     0.024390      0.003083         0.038257       0.018164   \n",
       "2022-06-21    -0.011905      0.004098         0.007156      -0.003756   \n",
       "2022-06-22     0.014458      0.001020        -0.002863      -0.004712   \n",
       "2022-06-23    -0.004751     -0.040265        -0.021589      -0.012311   \n",
       "2022-06-24     0.000000     -0.005311         0.022935       0.018217   \n",
       "\n",
       "            UNICREDIT  ...  GABETTI PROPERTY SLTN.     MFE B       ERG  \\\n",
       "Name                   ...                                               \n",
       "2015-01-01        NaN  ...                     NaN       NaN       NaN   \n",
       "2015-01-02   0.018743  ...               -0.007884 -0.002344  0.016748   \n",
       "2015-01-05  -0.066237  ...               -0.026895 -0.049554 -0.031881   \n",
       "2015-01-06  -0.013793  ...                0.000000 -0.027579 -0.002195   \n",
       "2015-01-07  -0.009792  ...                0.004397  0.001243  0.001650   \n",
       "...               ...  ...                     ...       ...       ...   \n",
       "2022-06-20   0.044170  ...                0.019108  0.019480 -0.000673   \n",
       "2022-06-21   0.008988  ...               -0.018750 -0.014154 -0.001348   \n",
       "2022-06-22  -0.010844  ...               -0.055733 -0.022972 -0.013495   \n",
       "2022-06-23  -0.039546  ...                0.023609 -0.027921  0.013680   \n",
       "2022-06-24   0.001223  ...               -0.060956  0.010582  0.021592   \n",
       "\n",
       "              CEMBRE     SABAF  BEGHELLI       SOL  DATALOGIC    BIESSE  \\\n",
       "Name                                                                      \n",
       "2015-01-01       NaN       NaN       NaN       NaN        NaN       NaN   \n",
       "2015-01-02  0.018609  0.000000 -0.007472  0.001503  -0.002247  0.022436   \n",
       "2015-01-05  0.002885 -0.005372 -0.008783  0.009752  -0.004505  0.040752   \n",
       "2015-01-06  0.015340 -0.005400 -0.010127 -0.002972  -0.004525  0.043173   \n",
       "2015-01-07 -0.015109 -0.009955  0.005115  0.022355   0.005682 -0.024062   \n",
       "...              ...       ...       ...       ...        ...       ...   \n",
       "2022-06-20  0.016529  0.012500  0.027397 -0.017544   0.015132 -0.009489   \n",
       "2022-06-21 -0.004065  0.032922 -0.002667  0.000000  -0.000648  0.003685   \n",
       "2022-06-22 -0.020408 -0.015936 -0.016043 -0.003827  -0.007782 -0.023495   \n",
       "2022-06-23  0.000000 -0.008097  0.000000  0.001280  -0.031373 -0.027820   \n",
       "2022-06-24  0.033333 -0.006122  0.005435  0.012788   0.020918  0.032483   \n",
       "\n",
       "            SAFILO GROUP  \n",
       "Name                      \n",
       "2015-01-01           NaN  \n",
       "2015-01-02      0.014855  \n",
       "2015-01-05     -0.029258  \n",
       "2015-01-06     -0.021664  \n",
       "2015-01-07      0.010597  \n",
       "...                  ...  \n",
       "2022-06-20      0.008124  \n",
       "2022-06-21      0.026591  \n",
       "2022-06-22     -0.011774  \n",
       "2022-06-23     -0.012708  \n",
       "2022-06-24      0.033789  \n",
       "\n",
       "[1952 rows x 88 columns]"
      ]
     },
     "execution_count": 5,
     "metadata": {},
     "output_type": "execute_result"
    }
   ],
   "source": [
    "stocks_daily_returns = stocks_daily.pct_change()\n",
    "\n",
    "stocks_daily_returns.to_excel(\"Returns.xlsx\")\n",
    "stocks_daily_returns"
   ]
  },
  {
   "cell_type": "markdown",
   "id": "dc877f6e",
   "metadata": {},
   "source": [
    "#### Mean"
   ]
  },
  {
   "cell_type": "code",
   "execution_count": 6,
   "id": "d6977f54",
   "metadata": {
    "scrolled": true
   },
   "outputs": [
    {
     "data": {
      "text/plain": [
       "LEONARDO        0.000396\n",
       "ECOSUNTEK       0.000382\n",
       "LANDI RENZO     0.000355\n",
       "PIRELLI & C    -0.000156\n",
       "STELLANTIS      0.000786\n",
       "                  ...   \n",
       "BEGHELLI        0.000239\n",
       "SOL             0.000601\n",
       "DATALOGIC       0.000212\n",
       "BIESSE          0.000572\n",
       "SAFILO GROUP   -0.000356\n",
       "Length: 88, dtype: float32"
      ]
     },
     "execution_count": 6,
     "metadata": {},
     "output_type": "execute_result"
    }
   ],
   "source": [
    "stocks_daily_mean = stocks_daily_returns.mean()\n",
    "\n",
    "stocks_daily_mean.to_excel(\"descriptive_statistics/Mean.xlsx\")\n",
    "stocks_daily_mean"
   ]
  },
  {
   "cell_type": "markdown",
   "id": "07d4b37a",
   "metadata": {},
   "source": [
    "#### Standard Deviation"
   ]
  },
  {
   "cell_type": "code",
   "execution_count": 7,
   "id": "47f29bf3",
   "metadata": {},
   "outputs": [
    {
     "data": {
      "text/plain": [
       "LEONARDO        0.023801\n",
       "ECOSUNTEK       0.032396\n",
       "LANDI RENZO     0.031352\n",
       "PIRELLI & C     0.022621\n",
       "STELLANTIS      0.025062\n",
       "                  ...   \n",
       "BEGHELLI        0.024035\n",
       "SOL             0.017748\n",
       "DATALOGIC       0.024362\n",
       "BIESSE          0.027862\n",
       "SAFILO GROUP    0.029528\n",
       "Length: 88, dtype: float32"
      ]
     },
     "execution_count": 7,
     "metadata": {},
     "output_type": "execute_result"
    }
   ],
   "source": [
    "stocks_daily_std = stocks_daily_returns.std()\n",
    "\n",
    "stocks_daily_std.to_excel(\"descriptive_statistics/Standard_Deviation.xlsx\")\n",
    "stocks_daily_std"
   ]
  },
  {
   "cell_type": "markdown",
   "id": "dcb62a5a",
   "metadata": {},
   "source": [
    "#### Variance"
   ]
  },
  {
   "cell_type": "code",
   "execution_count": 8,
   "id": "a9322690",
   "metadata": {
    "scrolled": true
   },
   "outputs": [
    {
     "data": {
      "text/plain": [
       "LEONARDO        0.000566\n",
       "ECOSUNTEK       0.001050\n",
       "LANDI RENZO     0.000983\n",
       "PIRELLI & C     0.000512\n",
       "STELLANTIS      0.000628\n",
       "                  ...   \n",
       "BEGHELLI        0.000578\n",
       "SOL             0.000315\n",
       "DATALOGIC       0.000594\n",
       "BIESSE          0.000776\n",
       "SAFILO GROUP    0.000872\n",
       "Length: 88, dtype: float32"
      ]
     },
     "execution_count": 8,
     "metadata": {},
     "output_type": "execute_result"
    }
   ],
   "source": [
    "stocks_daily_var = stocks_daily_returns.var()\n",
    "\n",
    "stocks_daily_var.to_excel(\"descriptive_statistics/Variance.xlsx\")\n",
    "stocks_daily_var"
   ]
  },
  {
   "cell_type": "markdown",
   "id": "b854038f",
   "metadata": {},
   "source": [
    "#### Skewness"
   ]
  },
  {
   "cell_type": "code",
   "execution_count": 9,
   "id": "272eac7a",
   "metadata": {},
   "outputs": [
    {
     "data": {
      "text/plain": [
       "LEONARDO       -0.282087\n",
       "ECOSUNTEK       2.616816\n",
       "LANDI RENZO     1.106274\n",
       "PIRELLI & C    -0.127382\n",
       "STELLANTIS     -0.457854\n",
       "                  ...   \n",
       "BEGHELLI        2.028659\n",
       "SOL             0.410644\n",
       "DATALOGIC       0.438717\n",
       "BIESSE         -0.159107\n",
       "SAFILO GROUP    0.425683\n",
       "Length: 88, dtype: float32"
      ]
     },
     "execution_count": 9,
     "metadata": {},
     "output_type": "execute_result"
    }
   ],
   "source": [
    "stocks_daily_skew = stocks_daily_returns.skew()\n",
    "\n",
    "stocks_daily_skew.to_excel(\"descriptive_statistics/Skewness.xlsx\")\n",
    "stocks_daily_skew"
   ]
  },
  {
   "cell_type": "markdown",
   "id": "166c2df4",
   "metadata": {},
   "source": [
    "#### Kurtosis"
   ]
  },
  {
   "cell_type": "code",
   "execution_count": 10,
   "id": "e36f2e45",
   "metadata": {
    "scrolled": true
   },
   "outputs": [
    {
     "data": {
      "text/plain": [
       "LEONARDO        12.227493\n",
       "ECOSUNTEK       19.447054\n",
       "LANDI RENZO     11.833575\n",
       "PIRELLI & C      6.545434\n",
       "STELLANTIS       5.415803\n",
       "                  ...    \n",
       "BEGHELLI        14.324505\n",
       "SOL              1.939568\n",
       "DATALOGIC        7.922311\n",
       "BIESSE           5.773567\n",
       "SAFILO GROUP    10.079428\n",
       "Length: 88, dtype: float32"
      ]
     },
     "execution_count": 10,
     "metadata": {},
     "output_type": "execute_result"
    }
   ],
   "source": [
    "stocks_daily_kurtosis = stocks_daily_returns.kurtosis()\n",
    "\n",
    "stocks_daily_kurtosis.to_excel(\"descriptive_statistics/Kurtosis.xlsx\")\n",
    "stocks_daily_kurtosis"
   ]
  },
  {
   "cell_type": "markdown",
   "id": "86c4a400",
   "metadata": {},
   "source": [
    "### 2."
   ]
  },
  {
   "cell_type": "markdown",
   "id": "4ec6e1bb",
   "metadata": {},
   "source": [
    "#### Variance-Covariance matrix"
   ]
  },
  {
   "cell_type": "code",
   "execution_count": 11,
   "id": "c1643e63",
   "metadata": {
    "scrolled": true
   },
   "outputs": [
    {
     "data": {
      "text/html": [
       "<div>\n",
       "<style scoped>\n",
       "    .dataframe tbody tr th:only-of-type {\n",
       "        vertical-align: middle;\n",
       "    }\n",
       "\n",
       "    .dataframe tbody tr th {\n",
       "        vertical-align: top;\n",
       "    }\n",
       "\n",
       "    .dataframe thead th {\n",
       "        text-align: right;\n",
       "    }\n",
       "</style>\n",
       "<table border=\"1\" class=\"dataframe\">\n",
       "  <thead>\n",
       "    <tr style=\"text-align: right;\">\n",
       "      <th></th>\n",
       "      <th>LEONARDO</th>\n",
       "      <th>ECOSUNTEK</th>\n",
       "      <th>LANDI RENZO</th>\n",
       "      <th>PIRELLI &amp; C</th>\n",
       "      <th>STELLANTIS</th>\n",
       "      <th>PININFARINA</th>\n",
       "      <th>FRENI BREMBO</th>\n",
       "      <th>INTESA SANPAOLO</th>\n",
       "      <th>ILLIMITY BANK</th>\n",
       "      <th>UNICREDIT</th>\n",
       "      <th>...</th>\n",
       "      <th>GABETTI PROPERTY SLTN.</th>\n",
       "      <th>MFE B</th>\n",
       "      <th>ERG</th>\n",
       "      <th>CEMBRE</th>\n",
       "      <th>SABAF</th>\n",
       "      <th>BEGHELLI</th>\n",
       "      <th>SOL</th>\n",
       "      <th>DATALOGIC</th>\n",
       "      <th>BIESSE</th>\n",
       "      <th>SAFILO GROUP</th>\n",
       "    </tr>\n",
       "  </thead>\n",
       "  <tbody>\n",
       "    <tr>\n",
       "      <th>LEONARDO</th>\n",
       "      <td>0.000566</td>\n",
       "      <td>0.000078</td>\n",
       "      <td>0.000187</td>\n",
       "      <td>0.000233</td>\n",
       "      <td>0.000290</td>\n",
       "      <td>0.000139</td>\n",
       "      <td>0.000180</td>\n",
       "      <td>0.000276</td>\n",
       "      <td>0.000235</td>\n",
       "      <td>0.000323</td>\n",
       "      <td>...</td>\n",
       "      <td>0.000173</td>\n",
       "      <td>0.000213</td>\n",
       "      <td>0.000138</td>\n",
       "      <td>0.000087</td>\n",
       "      <td>0.000081</td>\n",
       "      <td>0.000098</td>\n",
       "      <td>0.000075</td>\n",
       "      <td>0.000187</td>\n",
       "      <td>0.000233</td>\n",
       "      <td>0.000166</td>\n",
       "    </tr>\n",
       "    <tr>\n",
       "      <th>ECOSUNTEK</th>\n",
       "      <td>0.000078</td>\n",
       "      <td>0.001050</td>\n",
       "      <td>0.000067</td>\n",
       "      <td>0.000070</td>\n",
       "      <td>0.000088</td>\n",
       "      <td>0.000063</td>\n",
       "      <td>0.000072</td>\n",
       "      <td>0.000066</td>\n",
       "      <td>0.000087</td>\n",
       "      <td>0.000072</td>\n",
       "      <td>...</td>\n",
       "      <td>0.000037</td>\n",
       "      <td>0.000050</td>\n",
       "      <td>0.000029</td>\n",
       "      <td>0.000053</td>\n",
       "      <td>0.000043</td>\n",
       "      <td>0.000056</td>\n",
       "      <td>0.000053</td>\n",
       "      <td>0.000056</td>\n",
       "      <td>0.000083</td>\n",
       "      <td>0.000073</td>\n",
       "    </tr>\n",
       "    <tr>\n",
       "      <th>LANDI RENZO</th>\n",
       "      <td>0.000187</td>\n",
       "      <td>0.000067</td>\n",
       "      <td>0.000983</td>\n",
       "      <td>0.000210</td>\n",
       "      <td>0.000193</td>\n",
       "      <td>0.000112</td>\n",
       "      <td>0.000127</td>\n",
       "      <td>0.000189</td>\n",
       "      <td>0.000198</td>\n",
       "      <td>0.000240</td>\n",
       "      <td>...</td>\n",
       "      <td>0.000142</td>\n",
       "      <td>0.000122</td>\n",
       "      <td>0.000124</td>\n",
       "      <td>0.000077</td>\n",
       "      <td>0.000105</td>\n",
       "      <td>0.000099</td>\n",
       "      <td>0.000069</td>\n",
       "      <td>0.000140</td>\n",
       "      <td>0.000190</td>\n",
       "      <td>0.000120</td>\n",
       "    </tr>\n",
       "    <tr>\n",
       "      <th>PIRELLI &amp; C</th>\n",
       "      <td>0.000233</td>\n",
       "      <td>0.000070</td>\n",
       "      <td>0.000210</td>\n",
       "      <td>0.000512</td>\n",
       "      <td>0.000289</td>\n",
       "      <td>0.000136</td>\n",
       "      <td>0.000256</td>\n",
       "      <td>0.000259</td>\n",
       "      <td>0.000233</td>\n",
       "      <td>0.000314</td>\n",
       "      <td>...</td>\n",
       "      <td>0.000177</td>\n",
       "      <td>0.000195</td>\n",
       "      <td>0.000114</td>\n",
       "      <td>0.000110</td>\n",
       "      <td>0.000095</td>\n",
       "      <td>0.000126</td>\n",
       "      <td>0.000088</td>\n",
       "      <td>0.000225</td>\n",
       "      <td>0.000270</td>\n",
       "      <td>0.000159</td>\n",
       "    </tr>\n",
       "    <tr>\n",
       "      <th>STELLANTIS</th>\n",
       "      <td>0.000290</td>\n",
       "      <td>0.000088</td>\n",
       "      <td>0.000193</td>\n",
       "      <td>0.000289</td>\n",
       "      <td>0.000628</td>\n",
       "      <td>0.000190</td>\n",
       "      <td>0.000239</td>\n",
       "      <td>0.000331</td>\n",
       "      <td>0.000277</td>\n",
       "      <td>0.000380</td>\n",
       "      <td>...</td>\n",
       "      <td>0.000204</td>\n",
       "      <td>0.000256</td>\n",
       "      <td>0.000145</td>\n",
       "      <td>0.000117</td>\n",
       "      <td>0.000109</td>\n",
       "      <td>0.000139</td>\n",
       "      <td>0.000107</td>\n",
       "      <td>0.000237</td>\n",
       "      <td>0.000317</td>\n",
       "      <td>0.000211</td>\n",
       "    </tr>\n",
       "    <tr>\n",
       "      <th>...</th>\n",
       "      <td>...</td>\n",
       "      <td>...</td>\n",
       "      <td>...</td>\n",
       "      <td>...</td>\n",
       "      <td>...</td>\n",
       "      <td>...</td>\n",
       "      <td>...</td>\n",
       "      <td>...</td>\n",
       "      <td>...</td>\n",
       "      <td>...</td>\n",
       "      <td>...</td>\n",
       "      <td>...</td>\n",
       "      <td>...</td>\n",
       "      <td>...</td>\n",
       "      <td>...</td>\n",
       "      <td>...</td>\n",
       "      <td>...</td>\n",
       "      <td>...</td>\n",
       "      <td>...</td>\n",
       "      <td>...</td>\n",
       "      <td>...</td>\n",
       "    </tr>\n",
       "    <tr>\n",
       "      <th>BEGHELLI</th>\n",
       "      <td>0.000098</td>\n",
       "      <td>0.000056</td>\n",
       "      <td>0.000099</td>\n",
       "      <td>0.000126</td>\n",
       "      <td>0.000139</td>\n",
       "      <td>0.000140</td>\n",
       "      <td>0.000105</td>\n",
       "      <td>0.000148</td>\n",
       "      <td>0.000120</td>\n",
       "      <td>0.000163</td>\n",
       "      <td>...</td>\n",
       "      <td>0.000148</td>\n",
       "      <td>0.000143</td>\n",
       "      <td>0.000073</td>\n",
       "      <td>0.000068</td>\n",
       "      <td>0.000052</td>\n",
       "      <td>0.000578</td>\n",
       "      <td>0.000073</td>\n",
       "      <td>0.000094</td>\n",
       "      <td>0.000148</td>\n",
       "      <td>0.000120</td>\n",
       "    </tr>\n",
       "    <tr>\n",
       "      <th>SOL</th>\n",
       "      <td>0.000075</td>\n",
       "      <td>0.000053</td>\n",
       "      <td>0.000069</td>\n",
       "      <td>0.000088</td>\n",
       "      <td>0.000107</td>\n",
       "      <td>0.000074</td>\n",
       "      <td>0.000077</td>\n",
       "      <td>0.000094</td>\n",
       "      <td>0.000099</td>\n",
       "      <td>0.000104</td>\n",
       "      <td>...</td>\n",
       "      <td>0.000084</td>\n",
       "      <td>0.000088</td>\n",
       "      <td>0.000069</td>\n",
       "      <td>0.000064</td>\n",
       "      <td>0.000051</td>\n",
       "      <td>0.000073</td>\n",
       "      <td>0.000315</td>\n",
       "      <td>0.000083</td>\n",
       "      <td>0.000116</td>\n",
       "      <td>0.000091</td>\n",
       "    </tr>\n",
       "    <tr>\n",
       "      <th>DATALOGIC</th>\n",
       "      <td>0.000187</td>\n",
       "      <td>0.000056</td>\n",
       "      <td>0.000140</td>\n",
       "      <td>0.000225</td>\n",
       "      <td>0.000237</td>\n",
       "      <td>0.000128</td>\n",
       "      <td>0.000171</td>\n",
       "      <td>0.000198</td>\n",
       "      <td>0.000199</td>\n",
       "      <td>0.000230</td>\n",
       "      <td>...</td>\n",
       "      <td>0.000097</td>\n",
       "      <td>0.000174</td>\n",
       "      <td>0.000114</td>\n",
       "      <td>0.000107</td>\n",
       "      <td>0.000089</td>\n",
       "      <td>0.000094</td>\n",
       "      <td>0.000083</td>\n",
       "      <td>0.000594</td>\n",
       "      <td>0.000258</td>\n",
       "      <td>0.000143</td>\n",
       "    </tr>\n",
       "    <tr>\n",
       "      <th>BIESSE</th>\n",
       "      <td>0.000233</td>\n",
       "      <td>0.000083</td>\n",
       "      <td>0.000190</td>\n",
       "      <td>0.000270</td>\n",
       "      <td>0.000317</td>\n",
       "      <td>0.000189</td>\n",
       "      <td>0.000230</td>\n",
       "      <td>0.000278</td>\n",
       "      <td>0.000261</td>\n",
       "      <td>0.000322</td>\n",
       "      <td>...</td>\n",
       "      <td>0.000194</td>\n",
       "      <td>0.000213</td>\n",
       "      <td>0.000147</td>\n",
       "      <td>0.000126</td>\n",
       "      <td>0.000123</td>\n",
       "      <td>0.000148</td>\n",
       "      <td>0.000116</td>\n",
       "      <td>0.000258</td>\n",
       "      <td>0.000776</td>\n",
       "      <td>0.000244</td>\n",
       "    </tr>\n",
       "    <tr>\n",
       "      <th>SAFILO GROUP</th>\n",
       "      <td>0.000166</td>\n",
       "      <td>0.000073</td>\n",
       "      <td>0.000120</td>\n",
       "      <td>0.000159</td>\n",
       "      <td>0.000211</td>\n",
       "      <td>0.000134</td>\n",
       "      <td>0.000138</td>\n",
       "      <td>0.000205</td>\n",
       "      <td>0.000200</td>\n",
       "      <td>0.000230</td>\n",
       "      <td>...</td>\n",
       "      <td>0.000176</td>\n",
       "      <td>0.000166</td>\n",
       "      <td>0.000113</td>\n",
       "      <td>0.000091</td>\n",
       "      <td>0.000093</td>\n",
       "      <td>0.000120</td>\n",
       "      <td>0.000091</td>\n",
       "      <td>0.000143</td>\n",
       "      <td>0.000244</td>\n",
       "      <td>0.000872</td>\n",
       "    </tr>\n",
       "  </tbody>\n",
       "</table>\n",
       "<p>88 rows × 88 columns</p>\n",
       "</div>"
      ],
      "text/plain": [
       "              LEONARDO  ECOSUNTEK  LANDI RENZO  PIRELLI & C  STELLANTIS  \\\n",
       "LEONARDO      0.000566   0.000078     0.000187     0.000233    0.000290   \n",
       "ECOSUNTEK     0.000078   0.001050     0.000067     0.000070    0.000088   \n",
       "LANDI RENZO   0.000187   0.000067     0.000983     0.000210    0.000193   \n",
       "PIRELLI & C   0.000233   0.000070     0.000210     0.000512    0.000289   \n",
       "STELLANTIS    0.000290   0.000088     0.000193     0.000289    0.000628   \n",
       "...                ...        ...          ...          ...         ...   \n",
       "BEGHELLI      0.000098   0.000056     0.000099     0.000126    0.000139   \n",
       "SOL           0.000075   0.000053     0.000069     0.000088    0.000107   \n",
       "DATALOGIC     0.000187   0.000056     0.000140     0.000225    0.000237   \n",
       "BIESSE        0.000233   0.000083     0.000190     0.000270    0.000317   \n",
       "SAFILO GROUP  0.000166   0.000073     0.000120     0.000159    0.000211   \n",
       "\n",
       "              PININFARINA  FRENI BREMBO  INTESA SANPAOLO  ILLIMITY BANK  \\\n",
       "LEONARDO         0.000139      0.000180         0.000276       0.000235   \n",
       "ECOSUNTEK        0.000063      0.000072         0.000066       0.000087   \n",
       "LANDI RENZO      0.000112      0.000127         0.000189       0.000198   \n",
       "PIRELLI & C      0.000136      0.000256         0.000259       0.000233   \n",
       "STELLANTIS       0.000190      0.000239         0.000331       0.000277   \n",
       "...                   ...           ...              ...            ...   \n",
       "BEGHELLI         0.000140      0.000105         0.000148       0.000120   \n",
       "SOL              0.000074      0.000077         0.000094       0.000099   \n",
       "DATALOGIC        0.000128      0.000171         0.000198       0.000199   \n",
       "BIESSE           0.000189      0.000230         0.000278       0.000261   \n",
       "SAFILO GROUP     0.000134      0.000138         0.000205       0.000200   \n",
       "\n",
       "              UNICREDIT  ...  GABETTI PROPERTY SLTN.     MFE B       ERG  \\\n",
       "LEONARDO       0.000323  ...                0.000173  0.000213  0.000138   \n",
       "ECOSUNTEK      0.000072  ...                0.000037  0.000050  0.000029   \n",
       "LANDI RENZO    0.000240  ...                0.000142  0.000122  0.000124   \n",
       "PIRELLI & C    0.000314  ...                0.000177  0.000195  0.000114   \n",
       "STELLANTIS     0.000380  ...                0.000204  0.000256  0.000145   \n",
       "...                 ...  ...                     ...       ...       ...   \n",
       "BEGHELLI       0.000163  ...                0.000148  0.000143  0.000073   \n",
       "SOL            0.000104  ...                0.000084  0.000088  0.000069   \n",
       "DATALOGIC      0.000230  ...                0.000097  0.000174  0.000114   \n",
       "BIESSE         0.000322  ...                0.000194  0.000213  0.000147   \n",
       "SAFILO GROUP   0.000230  ...                0.000176  0.000166  0.000113   \n",
       "\n",
       "                CEMBRE     SABAF  BEGHELLI       SOL  DATALOGIC    BIESSE  \\\n",
       "LEONARDO      0.000087  0.000081  0.000098  0.000075   0.000187  0.000233   \n",
       "ECOSUNTEK     0.000053  0.000043  0.000056  0.000053   0.000056  0.000083   \n",
       "LANDI RENZO   0.000077  0.000105  0.000099  0.000069   0.000140  0.000190   \n",
       "PIRELLI & C   0.000110  0.000095  0.000126  0.000088   0.000225  0.000270   \n",
       "STELLANTIS    0.000117  0.000109  0.000139  0.000107   0.000237  0.000317   \n",
       "...                ...       ...       ...       ...        ...       ...   \n",
       "BEGHELLI      0.000068  0.000052  0.000578  0.000073   0.000094  0.000148   \n",
       "SOL           0.000064  0.000051  0.000073  0.000315   0.000083  0.000116   \n",
       "DATALOGIC     0.000107  0.000089  0.000094  0.000083   0.000594  0.000258   \n",
       "BIESSE        0.000126  0.000123  0.000148  0.000116   0.000258  0.000776   \n",
       "SAFILO GROUP  0.000091  0.000093  0.000120  0.000091   0.000143  0.000244   \n",
       "\n",
       "              SAFILO GROUP  \n",
       "LEONARDO          0.000166  \n",
       "ECOSUNTEK         0.000073  \n",
       "LANDI RENZO       0.000120  \n",
       "PIRELLI & C       0.000159  \n",
       "STELLANTIS        0.000211  \n",
       "...                    ...  \n",
       "BEGHELLI          0.000120  \n",
       "SOL               0.000091  \n",
       "DATALOGIC         0.000143  \n",
       "BIESSE            0.000244  \n",
       "SAFILO GROUP      0.000872  \n",
       "\n",
       "[88 rows x 88 columns]"
      ]
     },
     "execution_count": 11,
     "metadata": {},
     "output_type": "execute_result"
    }
   ],
   "source": [
    "stocks_daily_cov = stocks_daily_returns.cov()\n",
    "\n",
    "stocks_daily_cov.to_excel(\"descriptive_statistics/Variance-Covariance.xlsx\")\n",
    "stocks_daily_cov"
   ]
  },
  {
   "cell_type": "markdown",
   "id": "261135c2",
   "metadata": {},
   "source": [
    "#### Correlation matrix"
   ]
  },
  {
   "cell_type": "code",
   "execution_count": 12,
   "id": "44e2c5f1",
   "metadata": {
    "scrolled": true
   },
   "outputs": [
    {
     "data": {
      "text/html": [
       "<div>\n",
       "<style scoped>\n",
       "    .dataframe tbody tr th:only-of-type {\n",
       "        vertical-align: middle;\n",
       "    }\n",
       "\n",
       "    .dataframe tbody tr th {\n",
       "        vertical-align: top;\n",
       "    }\n",
       "\n",
       "    .dataframe thead th {\n",
       "        text-align: right;\n",
       "    }\n",
       "</style>\n",
       "<table border=\"1\" class=\"dataframe\">\n",
       "  <thead>\n",
       "    <tr style=\"text-align: right;\">\n",
       "      <th></th>\n",
       "      <th>LEONARDO</th>\n",
       "      <th>ECOSUNTEK</th>\n",
       "      <th>LANDI RENZO</th>\n",
       "      <th>PIRELLI &amp; C</th>\n",
       "      <th>STELLANTIS</th>\n",
       "      <th>PININFARINA</th>\n",
       "      <th>FRENI BREMBO</th>\n",
       "      <th>INTESA SANPAOLO</th>\n",
       "      <th>ILLIMITY BANK</th>\n",
       "      <th>UNICREDIT</th>\n",
       "      <th>...</th>\n",
       "      <th>GABETTI PROPERTY SLTN.</th>\n",
       "      <th>MFE B</th>\n",
       "      <th>ERG</th>\n",
       "      <th>CEMBRE</th>\n",
       "      <th>SABAF</th>\n",
       "      <th>BEGHELLI</th>\n",
       "      <th>SOL</th>\n",
       "      <th>DATALOGIC</th>\n",
       "      <th>BIESSE</th>\n",
       "      <th>SAFILO GROUP</th>\n",
       "    </tr>\n",
       "  </thead>\n",
       "  <tbody>\n",
       "    <tr>\n",
       "      <th>LEONARDO</th>\n",
       "      <td>1.000000</td>\n",
       "      <td>0.100820</td>\n",
       "      <td>0.250940</td>\n",
       "      <td>0.407670</td>\n",
       "      <td>0.485888</td>\n",
       "      <td>0.156628</td>\n",
       "      <td>0.387311</td>\n",
       "      <td>0.539071</td>\n",
       "      <td>0.462376</td>\n",
       "      <td>0.490611</td>\n",
       "      <td>...</td>\n",
       "      <td>0.257348</td>\n",
       "      <td>0.372790</td>\n",
       "      <td>0.335246</td>\n",
       "      <td>0.204991</td>\n",
       "      <td>0.182248</td>\n",
       "      <td>0.170854</td>\n",
       "      <td>0.177592</td>\n",
       "      <td>0.322933</td>\n",
       "      <td>0.350980</td>\n",
       "      <td>0.236335</td>\n",
       "    </tr>\n",
       "    <tr>\n",
       "      <th>ECOSUNTEK</th>\n",
       "      <td>0.100820</td>\n",
       "      <td>1.000000</td>\n",
       "      <td>0.065698</td>\n",
       "      <td>0.098422</td>\n",
       "      <td>0.108298</td>\n",
       "      <td>0.052330</td>\n",
       "      <td>0.114205</td>\n",
       "      <td>0.094675</td>\n",
       "      <td>0.142963</td>\n",
       "      <td>0.080561</td>\n",
       "      <td>...</td>\n",
       "      <td>0.039948</td>\n",
       "      <td>0.064752</td>\n",
       "      <td>0.050899</td>\n",
       "      <td>0.090925</td>\n",
       "      <td>0.070999</td>\n",
       "      <td>0.071358</td>\n",
       "      <td>0.092019</td>\n",
       "      <td>0.071091</td>\n",
       "      <td>0.091608</td>\n",
       "      <td>0.076761</td>\n",
       "    </tr>\n",
       "    <tr>\n",
       "      <th>LANDI RENZO</th>\n",
       "      <td>0.250940</td>\n",
       "      <td>0.065698</td>\n",
       "      <td>1.000000</td>\n",
       "      <td>0.318725</td>\n",
       "      <td>0.245608</td>\n",
       "      <td>0.095933</td>\n",
       "      <td>0.207647</td>\n",
       "      <td>0.279513</td>\n",
       "      <td>0.327755</td>\n",
       "      <td>0.276857</td>\n",
       "      <td>...</td>\n",
       "      <td>0.159952</td>\n",
       "      <td>0.162745</td>\n",
       "      <td>0.228456</td>\n",
       "      <td>0.137286</td>\n",
       "      <td>0.178425</td>\n",
       "      <td>0.131182</td>\n",
       "      <td>0.123812</td>\n",
       "      <td>0.182860</td>\n",
       "      <td>0.217259</td>\n",
       "      <td>0.130044</td>\n",
       "    </tr>\n",
       "    <tr>\n",
       "      <th>PIRELLI &amp; C</th>\n",
       "      <td>0.407670</td>\n",
       "      <td>0.098422</td>\n",
       "      <td>0.318725</td>\n",
       "      <td>1.000000</td>\n",
       "      <td>0.524087</td>\n",
       "      <td>0.240805</td>\n",
       "      <td>0.551609</td>\n",
       "      <td>0.577974</td>\n",
       "      <td>0.489211</td>\n",
       "      <td>0.548863</td>\n",
       "      <td>...</td>\n",
       "      <td>0.265077</td>\n",
       "      <td>0.400382</td>\n",
       "      <td>0.268055</td>\n",
       "      <td>0.251173</td>\n",
       "      <td>0.204292</td>\n",
       "      <td>0.208337</td>\n",
       "      <td>0.227710</td>\n",
       "      <td>0.368727</td>\n",
       "      <td>0.400748</td>\n",
       "      <td>0.212933</td>\n",
       "    </tr>\n",
       "    <tr>\n",
       "      <th>STELLANTIS</th>\n",
       "      <td>0.485888</td>\n",
       "      <td>0.108298</td>\n",
       "      <td>0.245608</td>\n",
       "      <td>0.524087</td>\n",
       "      <td>1.000000</td>\n",
       "      <td>0.204153</td>\n",
       "      <td>0.488791</td>\n",
       "      <td>0.612938</td>\n",
       "      <td>0.572394</td>\n",
       "      <td>0.547979</td>\n",
       "      <td>...</td>\n",
       "      <td>0.287338</td>\n",
       "      <td>0.426333</td>\n",
       "      <td>0.335402</td>\n",
       "      <td>0.262103</td>\n",
       "      <td>0.231683</td>\n",
       "      <td>0.230170</td>\n",
       "      <td>0.240069</td>\n",
       "      <td>0.387417</td>\n",
       "      <td>0.454428</td>\n",
       "      <td>0.285345</td>\n",
       "    </tr>\n",
       "    <tr>\n",
       "      <th>...</th>\n",
       "      <td>...</td>\n",
       "      <td>...</td>\n",
       "      <td>...</td>\n",
       "      <td>...</td>\n",
       "      <td>...</td>\n",
       "      <td>...</td>\n",
       "      <td>...</td>\n",
       "      <td>...</td>\n",
       "      <td>...</td>\n",
       "      <td>...</td>\n",
       "      <td>...</td>\n",
       "      <td>...</td>\n",
       "      <td>...</td>\n",
       "      <td>...</td>\n",
       "      <td>...</td>\n",
       "      <td>...</td>\n",
       "      <td>...</td>\n",
       "      <td>...</td>\n",
       "      <td>...</td>\n",
       "      <td>...</td>\n",
       "      <td>...</td>\n",
       "    </tr>\n",
       "    <tr>\n",
       "      <th>BEGHELLI</th>\n",
       "      <td>0.170854</td>\n",
       "      <td>0.071358</td>\n",
       "      <td>0.131182</td>\n",
       "      <td>0.208337</td>\n",
       "      <td>0.230170</td>\n",
       "      <td>0.156346</td>\n",
       "      <td>0.223270</td>\n",
       "      <td>0.285872</td>\n",
       "      <td>0.217514</td>\n",
       "      <td>0.244829</td>\n",
       "      <td>...</td>\n",
       "      <td>0.217373</td>\n",
       "      <td>0.247719</td>\n",
       "      <td>0.175228</td>\n",
       "      <td>0.158988</td>\n",
       "      <td>0.115422</td>\n",
       "      <td>1.000000</td>\n",
       "      <td>0.169996</td>\n",
       "      <td>0.160050</td>\n",
       "      <td>0.220681</td>\n",
       "      <td>0.169012</td>\n",
       "    </tr>\n",
       "    <tr>\n",
       "      <th>SOL</th>\n",
       "      <td>0.177592</td>\n",
       "      <td>0.092019</td>\n",
       "      <td>0.123812</td>\n",
       "      <td>0.227710</td>\n",
       "      <td>0.240069</td>\n",
       "      <td>0.112046</td>\n",
       "      <td>0.223282</td>\n",
       "      <td>0.246319</td>\n",
       "      <td>0.315709</td>\n",
       "      <td>0.211851</td>\n",
       "      <td>...</td>\n",
       "      <td>0.167287</td>\n",
       "      <td>0.208015</td>\n",
       "      <td>0.224441</td>\n",
       "      <td>0.201937</td>\n",
       "      <td>0.153070</td>\n",
       "      <td>0.169996</td>\n",
       "      <td>1.000000</td>\n",
       "      <td>0.192798</td>\n",
       "      <td>0.235369</td>\n",
       "      <td>0.174185</td>\n",
       "    </tr>\n",
       "    <tr>\n",
       "      <th>DATALOGIC</th>\n",
       "      <td>0.322933</td>\n",
       "      <td>0.071091</td>\n",
       "      <td>0.182860</td>\n",
       "      <td>0.368727</td>\n",
       "      <td>0.387417</td>\n",
       "      <td>0.141741</td>\n",
       "      <td>0.358807</td>\n",
       "      <td>0.378196</td>\n",
       "      <td>0.368985</td>\n",
       "      <td>0.340778</td>\n",
       "      <td>...</td>\n",
       "      <td>0.141074</td>\n",
       "      <td>0.298192</td>\n",
       "      <td>0.270204</td>\n",
       "      <td>0.246391</td>\n",
       "      <td>0.194688</td>\n",
       "      <td>0.160050</td>\n",
       "      <td>0.192798</td>\n",
       "      <td>1.000000</td>\n",
       "      <td>0.379361</td>\n",
       "      <td>0.199340</td>\n",
       "    </tr>\n",
       "    <tr>\n",
       "      <th>BIESSE</th>\n",
       "      <td>0.350980</td>\n",
       "      <td>0.091608</td>\n",
       "      <td>0.217259</td>\n",
       "      <td>0.400748</td>\n",
       "      <td>0.454428</td>\n",
       "      <td>0.181988</td>\n",
       "      <td>0.422977</td>\n",
       "      <td>0.463920</td>\n",
       "      <td>0.434199</td>\n",
       "      <td>0.417995</td>\n",
       "      <td>...</td>\n",
       "      <td>0.246447</td>\n",
       "      <td>0.318270</td>\n",
       "      <td>0.305863</td>\n",
       "      <td>0.252288</td>\n",
       "      <td>0.235979</td>\n",
       "      <td>0.220681</td>\n",
       "      <td>0.235369</td>\n",
       "      <td>0.379361</td>\n",
       "      <td>1.000000</td>\n",
       "      <td>0.296188</td>\n",
       "    </tr>\n",
       "    <tr>\n",
       "      <th>SAFILO GROUP</th>\n",
       "      <td>0.236335</td>\n",
       "      <td>0.076761</td>\n",
       "      <td>0.130044</td>\n",
       "      <td>0.212933</td>\n",
       "      <td>0.285345</td>\n",
       "      <td>0.121697</td>\n",
       "      <td>0.240167</td>\n",
       "      <td>0.322907</td>\n",
       "      <td>0.293954</td>\n",
       "      <td>0.281410</td>\n",
       "      <td>...</td>\n",
       "      <td>0.211215</td>\n",
       "      <td>0.234683</td>\n",
       "      <td>0.221951</td>\n",
       "      <td>0.173263</td>\n",
       "      <td>0.168790</td>\n",
       "      <td>0.169012</td>\n",
       "      <td>0.174185</td>\n",
       "      <td>0.199340</td>\n",
       "      <td>0.296188</td>\n",
       "      <td>1.000000</td>\n",
       "    </tr>\n",
       "  </tbody>\n",
       "</table>\n",
       "<p>88 rows × 88 columns</p>\n",
       "</div>"
      ],
      "text/plain": [
       "              LEONARDO  ECOSUNTEK  LANDI RENZO  PIRELLI & C  STELLANTIS  \\\n",
       "LEONARDO      1.000000   0.100820     0.250940     0.407670    0.485888   \n",
       "ECOSUNTEK     0.100820   1.000000     0.065698     0.098422    0.108298   \n",
       "LANDI RENZO   0.250940   0.065698     1.000000     0.318725    0.245608   \n",
       "PIRELLI & C   0.407670   0.098422     0.318725     1.000000    0.524087   \n",
       "STELLANTIS    0.485888   0.108298     0.245608     0.524087    1.000000   \n",
       "...                ...        ...          ...          ...         ...   \n",
       "BEGHELLI      0.170854   0.071358     0.131182     0.208337    0.230170   \n",
       "SOL           0.177592   0.092019     0.123812     0.227710    0.240069   \n",
       "DATALOGIC     0.322933   0.071091     0.182860     0.368727    0.387417   \n",
       "BIESSE        0.350980   0.091608     0.217259     0.400748    0.454428   \n",
       "SAFILO GROUP  0.236335   0.076761     0.130044     0.212933    0.285345   \n",
       "\n",
       "              PININFARINA  FRENI BREMBO  INTESA SANPAOLO  ILLIMITY BANK  \\\n",
       "LEONARDO         0.156628      0.387311         0.539071       0.462376   \n",
       "ECOSUNTEK        0.052330      0.114205         0.094675       0.142963   \n",
       "LANDI RENZO      0.095933      0.207647         0.279513       0.327755   \n",
       "PIRELLI & C      0.240805      0.551609         0.577974       0.489211   \n",
       "STELLANTIS       0.204153      0.488791         0.612938       0.572394   \n",
       "...                   ...           ...              ...            ...   \n",
       "BEGHELLI         0.156346      0.223270         0.285872       0.217514   \n",
       "SOL              0.112046      0.223282         0.246319       0.315709   \n",
       "DATALOGIC        0.141741      0.358807         0.378196       0.368985   \n",
       "BIESSE           0.181988      0.422977         0.463920       0.434199   \n",
       "SAFILO GROUP     0.121697      0.240167         0.322907       0.293954   \n",
       "\n",
       "              UNICREDIT  ...  GABETTI PROPERTY SLTN.     MFE B       ERG  \\\n",
       "LEONARDO       0.490611  ...                0.257348  0.372790  0.335246   \n",
       "ECOSUNTEK      0.080561  ...                0.039948  0.064752  0.050899   \n",
       "LANDI RENZO    0.276857  ...                0.159952  0.162745  0.228456   \n",
       "PIRELLI & C    0.548863  ...                0.265077  0.400382  0.268055   \n",
       "STELLANTIS     0.547979  ...                0.287338  0.426333  0.335402   \n",
       "...                 ...  ...                     ...       ...       ...   \n",
       "BEGHELLI       0.244829  ...                0.217373  0.247719  0.175228   \n",
       "SOL            0.211851  ...                0.167287  0.208015  0.224441   \n",
       "DATALOGIC      0.340778  ...                0.141074  0.298192  0.270204   \n",
       "BIESSE         0.417995  ...                0.246447  0.318270  0.305863   \n",
       "SAFILO GROUP   0.281410  ...                0.211215  0.234683  0.221951   \n",
       "\n",
       "                CEMBRE     SABAF  BEGHELLI       SOL  DATALOGIC    BIESSE  \\\n",
       "LEONARDO      0.204991  0.182248  0.170854  0.177592   0.322933  0.350980   \n",
       "ECOSUNTEK     0.090925  0.070999  0.071358  0.092019   0.071091  0.091608   \n",
       "LANDI RENZO   0.137286  0.178425  0.131182  0.123812   0.182860  0.217259   \n",
       "PIRELLI & C   0.251173  0.204292  0.208337  0.227710   0.368727  0.400748   \n",
       "STELLANTIS    0.262103  0.231683  0.230170  0.240069   0.387417  0.454428   \n",
       "...                ...       ...       ...       ...        ...       ...   \n",
       "BEGHELLI      0.158988  0.115422  1.000000  0.169996   0.160050  0.220681   \n",
       "SOL           0.201937  0.153070  0.169996  1.000000   0.192798  0.235369   \n",
       "DATALOGIC     0.246391  0.194688  0.160050  0.192798   1.000000  0.379361   \n",
       "BIESSE        0.252288  0.235979  0.220681  0.235369   0.379361  1.000000   \n",
       "SAFILO GROUP  0.173263  0.168790  0.169012  0.174185   0.199340  0.296188   \n",
       "\n",
       "              SAFILO GROUP  \n",
       "LEONARDO          0.236335  \n",
       "ECOSUNTEK         0.076761  \n",
       "LANDI RENZO       0.130044  \n",
       "PIRELLI & C       0.212933  \n",
       "STELLANTIS        0.285345  \n",
       "...                    ...  \n",
       "BEGHELLI          0.169012  \n",
       "SOL               0.174185  \n",
       "DATALOGIC         0.199340  \n",
       "BIESSE            0.296188  \n",
       "SAFILO GROUP      1.000000  \n",
       "\n",
       "[88 rows x 88 columns]"
      ]
     },
     "execution_count": 12,
     "metadata": {},
     "output_type": "execute_result"
    }
   ],
   "source": [
    "stocks_daily_corr = stocks_daily_returns.corr()\n",
    "\n",
    "stocks_daily_corr.to_excel(\"descriptive_statistics/Correlation.xlsx\")\n",
    "stocks_daily_corr"
   ]
  },
  {
   "cell_type": "markdown",
   "id": "82f1e8b7",
   "metadata": {},
   "source": [
    "### 3."
   ]
  },
  {
   "cell_type": "code",
   "execution_count": 13,
   "id": "6be80e4c",
   "metadata": {},
   "outputs": [
    {
     "data": {
      "text/html": [
       "<div>\n",
       "<style scoped>\n",
       "    .dataframe tbody tr th:only-of-type {\n",
       "        vertical-align: middle;\n",
       "    }\n",
       "\n",
       "    .dataframe tbody tr th {\n",
       "        vertical-align: top;\n",
       "    }\n",
       "\n",
       "    .dataframe thead th {\n",
       "        text-align: right;\n",
       "    }\n",
       "</style>\n",
       "<table border=\"1\" class=\"dataframe\">\n",
       "  <thead>\n",
       "    <tr style=\"text-align: right;\">\n",
       "      <th></th>\n",
       "      <th>LEONARDO</th>\n",
       "      <th>ECOSUNTEK</th>\n",
       "      <th>LANDI RENZO</th>\n",
       "      <th>STELLANTIS</th>\n",
       "      <th>PININFARINA</th>\n",
       "      <th>FRENI BREMBO</th>\n",
       "      <th>INTESA SANPAOLO</th>\n",
       "      <th>UNICREDIT</th>\n",
       "      <th>BANCA GENERALI</th>\n",
       "      <th>BPER BANCA</th>\n",
       "      <th>...</th>\n",
       "      <th>GABETTI PROPERTY SLTN.</th>\n",
       "      <th>MFE B</th>\n",
       "      <th>ERG</th>\n",
       "      <th>CEMBRE</th>\n",
       "      <th>SABAF</th>\n",
       "      <th>BEGHELLI</th>\n",
       "      <th>SOL</th>\n",
       "      <th>DATALOGIC</th>\n",
       "      <th>BIESSE</th>\n",
       "      <th>SAFILO GROUP</th>\n",
       "    </tr>\n",
       "    <tr>\n",
       "      <th>Name</th>\n",
       "      <th></th>\n",
       "      <th></th>\n",
       "      <th></th>\n",
       "      <th></th>\n",
       "      <th></th>\n",
       "      <th></th>\n",
       "      <th></th>\n",
       "      <th></th>\n",
       "      <th></th>\n",
       "      <th></th>\n",
       "      <th></th>\n",
       "      <th></th>\n",
       "      <th></th>\n",
       "      <th></th>\n",
       "      <th></th>\n",
       "      <th></th>\n",
       "      <th></th>\n",
       "      <th></th>\n",
       "      <th></th>\n",
       "      <th></th>\n",
       "      <th></th>\n",
       "    </tr>\n",
       "  </thead>\n",
       "  <tbody>\n",
       "    <tr>\n",
       "      <th>2015-01-01</th>\n",
       "      <td>NaN</td>\n",
       "      <td>NaN</td>\n",
       "      <td>NaN</td>\n",
       "      <td>NaN</td>\n",
       "      <td>NaN</td>\n",
       "      <td>NaN</td>\n",
       "      <td>NaN</td>\n",
       "      <td>NaN</td>\n",
       "      <td>NaN</td>\n",
       "      <td>NaN</td>\n",
       "      <td>...</td>\n",
       "      <td>NaN</td>\n",
       "      <td>NaN</td>\n",
       "      <td>NaN</td>\n",
       "      <td>NaN</td>\n",
       "      <td>NaN</td>\n",
       "      <td>NaN</td>\n",
       "      <td>NaN</td>\n",
       "      <td>NaN</td>\n",
       "      <td>NaN</td>\n",
       "      <td>NaN</td>\n",
       "    </tr>\n",
       "    <tr>\n",
       "      <th>2015-01-02</th>\n",
       "      <td>-0.000646</td>\n",
       "      <td>0.000000</td>\n",
       "      <td>0.002020</td>\n",
       "      <td>0.007800</td>\n",
       "      <td>0.018395</td>\n",
       "      <td>0.004693</td>\n",
       "      <td>0.013212</td>\n",
       "      <td>0.018743</td>\n",
       "      <td>0.010846</td>\n",
       "      <td>0.021032</td>\n",
       "      <td>...</td>\n",
       "      <td>-0.007884</td>\n",
       "      <td>-0.002344</td>\n",
       "      <td>0.016748</td>\n",
       "      <td>0.018609</td>\n",
       "      <td>0.000000</td>\n",
       "      <td>-0.007472</td>\n",
       "      <td>0.001503</td>\n",
       "      <td>-0.002247</td>\n",
       "      <td>0.022436</td>\n",
       "      <td>0.014855</td>\n",
       "    </tr>\n",
       "    <tr>\n",
       "      <th>2015-01-05</th>\n",
       "      <td>-0.038810</td>\n",
       "      <td>0.000000</td>\n",
       "      <td>0.003528</td>\n",
       "      <td>-0.021703</td>\n",
       "      <td>-0.019971</td>\n",
       "      <td>-0.010061</td>\n",
       "      <td>-0.059495</td>\n",
       "      <td>-0.066237</td>\n",
       "      <td>-0.017597</td>\n",
       "      <td>-0.049272</td>\n",
       "      <td>...</td>\n",
       "      <td>-0.026895</td>\n",
       "      <td>-0.049554</td>\n",
       "      <td>-0.031881</td>\n",
       "      <td>0.002885</td>\n",
       "      <td>-0.005372</td>\n",
       "      <td>-0.008783</td>\n",
       "      <td>0.009752</td>\n",
       "      <td>-0.004505</td>\n",
       "      <td>0.040752</td>\n",
       "      <td>-0.029258</td>\n",
       "    </tr>\n",
       "    <tr>\n",
       "      <th>2015-01-06</th>\n",
       "      <td>-0.010767</td>\n",
       "      <td>0.000000</td>\n",
       "      <td>-0.010547</td>\n",
       "      <td>0.015863</td>\n",
       "      <td>-0.002536</td>\n",
       "      <td>-0.015971</td>\n",
       "      <td>-0.013865</td>\n",
       "      <td>-0.013793</td>\n",
       "      <td>-0.009174</td>\n",
       "      <td>-0.037706</td>\n",
       "      <td>...</td>\n",
       "      <td>0.000000</td>\n",
       "      <td>-0.027579</td>\n",
       "      <td>-0.002195</td>\n",
       "      <td>0.015340</td>\n",
       "      <td>-0.005400</td>\n",
       "      <td>-0.010127</td>\n",
       "      <td>-0.002972</td>\n",
       "      <td>-0.004525</td>\n",
       "      <td>0.043173</td>\n",
       "      <td>-0.021664</td>\n",
       "    </tr>\n",
       "    <tr>\n",
       "      <th>2015-01-07</th>\n",
       "      <td>0.015646</td>\n",
       "      <td>0.000000</td>\n",
       "      <td>0.007614</td>\n",
       "      <td>0.008831</td>\n",
       "      <td>0.007672</td>\n",
       "      <td>-0.010697</td>\n",
       "      <td>-0.012302</td>\n",
       "      <td>-0.009792</td>\n",
       "      <td>-0.010141</td>\n",
       "      <td>-0.022544</td>\n",
       "      <td>...</td>\n",
       "      <td>0.004397</td>\n",
       "      <td>0.001243</td>\n",
       "      <td>0.001650</td>\n",
       "      <td>-0.015109</td>\n",
       "      <td>-0.009955</td>\n",
       "      <td>0.005115</td>\n",
       "      <td>0.022355</td>\n",
       "      <td>0.005682</td>\n",
       "      <td>-0.024062</td>\n",
       "      <td>0.010597</td>\n",
       "    </tr>\n",
       "    <tr>\n",
       "      <th>...</th>\n",
       "      <td>...</td>\n",
       "      <td>...</td>\n",
       "      <td>...</td>\n",
       "      <td>...</td>\n",
       "      <td>...</td>\n",
       "      <td>...</td>\n",
       "      <td>...</td>\n",
       "      <td>...</td>\n",
       "      <td>...</td>\n",
       "      <td>...</td>\n",
       "      <td>...</td>\n",
       "      <td>...</td>\n",
       "      <td>...</td>\n",
       "      <td>...</td>\n",
       "      <td>...</td>\n",
       "      <td>...</td>\n",
       "      <td>...</td>\n",
       "      <td>...</td>\n",
       "      <td>...</td>\n",
       "      <td>...</td>\n",
       "      <td>...</td>\n",
       "    </tr>\n",
       "    <tr>\n",
       "      <th>2022-06-20</th>\n",
       "      <td>0.003711</td>\n",
       "      <td>-0.023474</td>\n",
       "      <td>0.014570</td>\n",
       "      <td>0.012422</td>\n",
       "      <td>0.024390</td>\n",
       "      <td>0.003083</td>\n",
       "      <td>0.038257</td>\n",
       "      <td>0.044170</td>\n",
       "      <td>0.006510</td>\n",
       "      <td>0.017878</td>\n",
       "      <td>...</td>\n",
       "      <td>0.019108</td>\n",
       "      <td>0.019480</td>\n",
       "      <td>-0.000673</td>\n",
       "      <td>0.016529</td>\n",
       "      <td>0.012500</td>\n",
       "      <td>0.027397</td>\n",
       "      <td>-0.017544</td>\n",
       "      <td>0.015132</td>\n",
       "      <td>-0.009489</td>\n",
       "      <td>0.008124</td>\n",
       "    </tr>\n",
       "    <tr>\n",
       "      <th>2022-06-21</th>\n",
       "      <td>0.035120</td>\n",
       "      <td>0.024038</td>\n",
       "      <td>-0.001305</td>\n",
       "      <td>0.025024</td>\n",
       "      <td>-0.011905</td>\n",
       "      <td>0.004098</td>\n",
       "      <td>0.007156</td>\n",
       "      <td>0.008988</td>\n",
       "      <td>-0.009342</td>\n",
       "      <td>0.004684</td>\n",
       "      <td>...</td>\n",
       "      <td>-0.018750</td>\n",
       "      <td>-0.014154</td>\n",
       "      <td>-0.001348</td>\n",
       "      <td>-0.004065</td>\n",
       "      <td>0.032922</td>\n",
       "      <td>-0.002667</td>\n",
       "      <td>0.000000</td>\n",
       "      <td>-0.000648</td>\n",
       "      <td>0.003685</td>\n",
       "      <td>0.026591</td>\n",
       "    </tr>\n",
       "    <tr>\n",
       "      <th>2022-06-22</th>\n",
       "      <td>-0.039683</td>\n",
       "      <td>-0.009390</td>\n",
       "      <td>0.014379</td>\n",
       "      <td>-0.017168</td>\n",
       "      <td>0.014458</td>\n",
       "      <td>0.001020</td>\n",
       "      <td>-0.002863</td>\n",
       "      <td>-0.010844</td>\n",
       "      <td>0.000363</td>\n",
       "      <td>-0.001457</td>\n",
       "      <td>...</td>\n",
       "      <td>-0.055733</td>\n",
       "      <td>-0.022972</td>\n",
       "      <td>-0.013495</td>\n",
       "      <td>-0.020408</td>\n",
       "      <td>-0.015936</td>\n",
       "      <td>-0.016043</td>\n",
       "      <td>-0.003827</td>\n",
       "      <td>-0.007782</td>\n",
       "      <td>-0.023495</td>\n",
       "      <td>-0.011774</td>\n",
       "    </tr>\n",
       "    <tr>\n",
       "      <th>2022-06-23</th>\n",
       "      <td>-0.016529</td>\n",
       "      <td>0.000000</td>\n",
       "      <td>-0.009021</td>\n",
       "      <td>-0.021314</td>\n",
       "      <td>-0.004751</td>\n",
       "      <td>-0.040265</td>\n",
       "      <td>-0.021589</td>\n",
       "      <td>-0.039546</td>\n",
       "      <td>-0.011603</td>\n",
       "      <td>-0.048147</td>\n",
       "      <td>...</td>\n",
       "      <td>0.023609</td>\n",
       "      <td>-0.027921</td>\n",
       "      <td>0.013680</td>\n",
       "      <td>0.000000</td>\n",
       "      <td>-0.008097</td>\n",
       "      <td>0.000000</td>\n",
       "      <td>0.001280</td>\n",
       "      <td>-0.031373</td>\n",
       "      <td>-0.027820</td>\n",
       "      <td>-0.012708</td>\n",
       "    </tr>\n",
       "    <tr>\n",
       "      <th>2022-06-24</th>\n",
       "      <td>0.007353</td>\n",
       "      <td>0.023697</td>\n",
       "      <td>0.002601</td>\n",
       "      <td>0.017521</td>\n",
       "      <td>0.000000</td>\n",
       "      <td>-0.005311</td>\n",
       "      <td>0.022935</td>\n",
       "      <td>0.001223</td>\n",
       "      <td>0.034850</td>\n",
       "      <td>0.032495</td>\n",
       "      <td>...</td>\n",
       "      <td>-0.060956</td>\n",
       "      <td>0.010582</td>\n",
       "      <td>0.021592</td>\n",
       "      <td>0.033333</td>\n",
       "      <td>-0.006122</td>\n",
       "      <td>0.005435</td>\n",
       "      <td>0.012788</td>\n",
       "      <td>0.020918</td>\n",
       "      <td>0.032483</td>\n",
       "      <td>0.033789</td>\n",
       "    </tr>\n",
       "  </tbody>\n",
       "</table>\n",
       "<p>1952 rows × 80 columns</p>\n",
       "</div>"
      ],
      "text/plain": [
       "            LEONARDO  ECOSUNTEK  LANDI RENZO  STELLANTIS  PININFARINA  \\\n",
       "Name                                                                    \n",
       "2015-01-01       NaN        NaN          NaN         NaN          NaN   \n",
       "2015-01-02 -0.000646   0.000000     0.002020    0.007800     0.018395   \n",
       "2015-01-05 -0.038810   0.000000     0.003528   -0.021703    -0.019971   \n",
       "2015-01-06 -0.010767   0.000000    -0.010547    0.015863    -0.002536   \n",
       "2015-01-07  0.015646   0.000000     0.007614    0.008831     0.007672   \n",
       "...              ...        ...          ...         ...          ...   \n",
       "2022-06-20  0.003711  -0.023474     0.014570    0.012422     0.024390   \n",
       "2022-06-21  0.035120   0.024038    -0.001305    0.025024    -0.011905   \n",
       "2022-06-22 -0.039683  -0.009390     0.014379   -0.017168     0.014458   \n",
       "2022-06-23 -0.016529   0.000000    -0.009021   -0.021314    -0.004751   \n",
       "2022-06-24  0.007353   0.023697     0.002601    0.017521     0.000000   \n",
       "\n",
       "            FRENI BREMBO  INTESA SANPAOLO  UNICREDIT  BANCA GENERALI  \\\n",
       "Name                                                                   \n",
       "2015-01-01           NaN              NaN        NaN             NaN   \n",
       "2015-01-02      0.004693         0.013212   0.018743        0.010846   \n",
       "2015-01-05     -0.010061        -0.059495  -0.066237       -0.017597   \n",
       "2015-01-06     -0.015971        -0.013865  -0.013793       -0.009174   \n",
       "2015-01-07     -0.010697        -0.012302  -0.009792       -0.010141   \n",
       "...                  ...              ...        ...             ...   \n",
       "2022-06-20      0.003083         0.038257   0.044170        0.006510   \n",
       "2022-06-21      0.004098         0.007156   0.008988       -0.009342   \n",
       "2022-06-22      0.001020        -0.002863  -0.010844        0.000363   \n",
       "2022-06-23     -0.040265        -0.021589  -0.039546       -0.011603   \n",
       "2022-06-24     -0.005311         0.022935   0.001223        0.034850   \n",
       "\n",
       "            BPER BANCA  ...  GABETTI PROPERTY SLTN.     MFE B       ERG  \\\n",
       "Name                    ...                                               \n",
       "2015-01-01         NaN  ...                     NaN       NaN       NaN   \n",
       "2015-01-02    0.021032  ...               -0.007884 -0.002344  0.016748   \n",
       "2015-01-05   -0.049272  ...               -0.026895 -0.049554 -0.031881   \n",
       "2015-01-06   -0.037706  ...                0.000000 -0.027579 -0.002195   \n",
       "2015-01-07   -0.022544  ...                0.004397  0.001243  0.001650   \n",
       "...                ...  ...                     ...       ...       ...   \n",
       "2022-06-20    0.017878  ...                0.019108  0.019480 -0.000673   \n",
       "2022-06-21    0.004684  ...               -0.018750 -0.014154 -0.001348   \n",
       "2022-06-22   -0.001457  ...               -0.055733 -0.022972 -0.013495   \n",
       "2022-06-23   -0.048147  ...                0.023609 -0.027921  0.013680   \n",
       "2022-06-24    0.032495  ...               -0.060956  0.010582  0.021592   \n",
       "\n",
       "              CEMBRE     SABAF  BEGHELLI       SOL  DATALOGIC    BIESSE  \\\n",
       "Name                                                                      \n",
       "2015-01-01       NaN       NaN       NaN       NaN        NaN       NaN   \n",
       "2015-01-02  0.018609  0.000000 -0.007472  0.001503  -0.002247  0.022436   \n",
       "2015-01-05  0.002885 -0.005372 -0.008783  0.009752  -0.004505  0.040752   \n",
       "2015-01-06  0.015340 -0.005400 -0.010127 -0.002972  -0.004525  0.043173   \n",
       "2015-01-07 -0.015109 -0.009955  0.005115  0.022355   0.005682 -0.024062   \n",
       "...              ...       ...       ...       ...        ...       ...   \n",
       "2022-06-20  0.016529  0.012500  0.027397 -0.017544   0.015132 -0.009489   \n",
       "2022-06-21 -0.004065  0.032922 -0.002667  0.000000  -0.000648  0.003685   \n",
       "2022-06-22 -0.020408 -0.015936 -0.016043 -0.003827  -0.007782 -0.023495   \n",
       "2022-06-23  0.000000 -0.008097  0.000000  0.001280  -0.031373 -0.027820   \n",
       "2022-06-24  0.033333 -0.006122  0.005435  0.012788   0.020918  0.032483   \n",
       "\n",
       "            SAFILO GROUP  \n",
       "Name                      \n",
       "2015-01-01           NaN  \n",
       "2015-01-02      0.014855  \n",
       "2015-01-05     -0.029258  \n",
       "2015-01-06     -0.021664  \n",
       "2015-01-07      0.010597  \n",
       "...                  ...  \n",
       "2022-06-20      0.008124  \n",
       "2022-06-21      0.026591  \n",
       "2022-06-22     -0.011774  \n",
       "2022-06-23     -0.012708  \n",
       "2022-06-24      0.033789  \n",
       "\n",
       "[1952 rows x 80 columns]"
      ]
     },
     "execution_count": 13,
     "metadata": {},
     "output_type": "execute_result"
    }
   ],
   "source": [
    "stocks_daily_clean = stocks_daily_returns.loc[:,(stocks_daily.isna().sum() == 0)]\n",
    "stocks_daily_clean"
   ]
  },
  {
   "cell_type": "code",
   "execution_count": 14,
   "id": "fabd6aea",
   "metadata": {},
   "outputs": [],
   "source": [
    "correlation_matrix = stocks_daily_clean.corr()"
   ]
  },
  {
   "cell_type": "markdown",
   "id": "b280baac",
   "metadata": {},
   "source": [
    "#### See what companies correlate the less"
   ]
  },
  {
   "cell_type": "code",
   "execution_count": 15,
   "id": "6d97afbb",
   "metadata": {},
   "outputs": [],
   "source": [
    "def pick_securities(correlation_matrix, number_of_securities = 12):\n",
    "\n",
    "    securities = []    \n",
    "    \n",
    "    #Pick the 2 securities with less correlation\n",
    "    security_1 = correlation_matrix.min().argmin()\n",
    "    securities.append(security_1)\n",
    "    \n",
    "    security_2 = correlation_matrix.iloc[securities[0], :].argmin()\n",
    "    securities.append(security_2)\n",
    "    \n",
    "    #Pick the rest of the securities (min-max correlation)\n",
    "    if number_of_securities > 2:\n",
    "        for _ in range(number_of_securities-2):\n",
    "            security = correlation_matrix.iloc[securities].max().argmin()\n",
    "            securities.append(security)\n",
    "    \n",
    "    return securities"
   ]
  },
  {
   "cell_type": "code",
   "execution_count": 16,
   "id": "fc8a579d",
   "metadata": {},
   "outputs": [],
   "source": [
    "#Pick 12 securities and see their correlation matrix\n",
    "\n",
    "securities_index = pick_securities(correlation_matrix, number_of_securities = 12)\n",
    "securities = list(correlation_matrix.iloc[securities_index, securities_index].columns)\n",
    "correlation_matrix.iloc[securities_index, securities_index]\n",
    "\n",
    "correlation_matrix.iloc[securities_index, securities_index].to_excel(\"Securities_Correlation.xlsx\")"
   ]
  },
  {
   "cell_type": "markdown",
   "id": "0b4b5ed3",
   "metadata": {},
   "source": [
    "### 4."
   ]
  },
  {
   "cell_type": "code",
   "execution_count": 17,
   "id": "346044fa",
   "metadata": {},
   "outputs": [],
   "source": [
    "if not os.path.exists(\"figures\"):\n",
    "    os.makedirs(\"figures\")"
   ]
  },
  {
   "cell_type": "code",
   "execution_count": 18,
   "id": "5ba1c44f",
   "metadata": {
    "scrolled": true
   },
   "outputs": [
    {
     "data": {
      "image/png": "[encoded data removed]",
      "text/plain": [
       "<Figure size 1440x720 with 12 Axes>"
      ]
     },
     "metadata": {
      "needs_background": "light"
     },
     "output_type": "display_data"
    }
   ],
   "source": [
    "#Plot prices\n",
    "\n",
    "fig = plt.figure(figsize = (20,10), constrained_layout=True)\n",
    "ax_array = fig.subplots(3, 4, squeeze=False)\n",
    "sec_array = np.array(securities).reshape(3,4)\n",
    "for i, row in enumerate(sec_array):\n",
    "    for j, element in enumerate(row):\n",
    "        ax_array[i, j].plot(stocks_daily[sec_array[i, j]])\n",
    "        ax_array[i, j].set_title(sec_array[i, j])\n",
    "        ax_array[i, j].set_ylim(bottom=0)\n",
    "\n",
    "plt.savefig(\"figures/prices_over_time.png\",dpi = 400)    "
   ]
  },
  {
   "cell_type": "code",
   "execution_count": 19,
   "id": "a3760865",
   "metadata": {},
   "outputs": [
    {
     "data": {
      "image/png": "[encoded data removed]",
      "text/plain": [
       "<Figure size 1440x720 with 12 Axes>"
      ]
     },
     "metadata": {
      "needs_background": "light"
     },
     "output_type": "display_data"
    }
   ],
   "source": [
    "#Plot returns\n",
    "\n",
    "fig = plt.figure(figsize = (20,10), constrained_layout=True)\n",
    "ax_array = fig.subplots(3, 4, squeeze=False)\n",
    "sec_array = np.array(securities).reshape(3,4)\n",
    "for i, row in enumerate(sec_array):\n",
    "    for j, element in enumerate(row):\n",
    "        ax_array[i, j].plot(stocks_daily_returns[sec_array[i, j]])\n",
    "        ax_array[i, j].set_title(sec_array[i, j])\n",
    "        ax_array[i, j].set_ylim([-0.8, 0.8])\n",
    "\n",
    "plt.savefig(\"figures/returns_over_time.png\",dpi = 400)        "
   ]
  },
  {
   "cell_type": "code",
   "execution_count": 20,
   "id": "5239e690",
   "metadata": {},
   "outputs": [
    {
     "data": {
      "image/png": "[encoded data removed]",
      "text/plain": [
       "<Figure size 1440x720 with 12 Axes>"
      ]
     },
     "metadata": {
      "needs_background": "light"
     },
     "output_type": "display_data"
    }
   ],
   "source": [
    "#Distribution of returns\n",
    "\n",
    "fig = plt.figure(figsize = (20,10), constrained_layout=True)\n",
    "ax_array = fig.subplots(3, 4, squeeze=False)\n",
    "sec_array = np.array(securities).reshape(3,4)\n",
    "for i, row in enumerate(sec_array):\n",
    "    for j, element in enumerate(row):\n",
    "        ax_array[i, j].hist(stocks_daily_returns[sec_array[i, j]], bins='sqrt')\n",
    "        ax_array[i, j].set_title(sec_array[i, j])\n",
    "        ax_array[i, j].set_xlim([-0.3, 0.3])\n",
    "\n",
    "plt.savefig(\"figures/distributions_of_returns.png\",dpi = 400)       "
   ]
  },
  {
   "cell_type": "markdown",
   "id": "cfddb0a0",
   "metadata": {},
   "source": [
    "### 5."
   ]
  },
  {
   "cell_type": "markdown",
   "id": "c6368022",
   "metadata": {},
   "source": [
    "#### Weights"
   ]
  },
  {
   "cell_type": "code",
   "execution_count": 21,
   "id": "0298ca65",
   "metadata": {},
   "outputs": [],
   "source": [
    "#Define the expected return vector and the variance.covariance matrix for our securities\n",
    "\n",
    "μ = np.array(stocks_daily_mean[securities]).reshape((len(securities),))\n",
    "Σ = np.array(stocks_daily_cov.loc[securities, securities])"
   ]
  },
  {
   "cell_type": "code",
   "execution_count": 22,
   "id": "cd770c89",
   "metadata": {},
   "outputs": [
    {
     "data": {
      "text/plain": [
       "(12, 12)"
      ]
     },
     "execution_count": 22,
     "metadata": {},
     "output_type": "execute_result"
    }
   ],
   "source": [
    "Σ.shape"
   ]
  },
  {
   "cell_type": "markdown",
   "id": "c8377f0f",
   "metadata": {},
   "source": [
    "Code for efficient Mean Variance would look like this if implemented from scratch, however we use the more efficient implementation in the PyPortfolioOptimization library.\n",
    "\n",
    "```python\n",
    "\n",
    "    def compute_efficient_portfolio(μ, Σ, mu_p):\n",
    "    \n",
    "        #Vector of ones with length equal to the number of rows of the variance-covariance matrix\n",
    "        ι = np.ones((Σ.shape[0]))\n",
    "    \n",
    "        #Compute the information matrix\n",
    "        A = μ.T @ alg.inv(Σ) @ μ \n",
    "        B = ι.T @ alg.inv(Σ)@ μ\n",
    "        C = ι.T @ alg.inv(Σ) @ ι\n",
    "    \n",
    "        I = np.array([\n",
    "            [A , B],\n",
    "            [B , C]\n",
    "        ])\n",
    "\n",
    "        #Compute the weights    \n",
    "        W = 1/alg.det(I)*alg.inv(Σ)@(C*μ-B)*mu_p + (alg.inv(Σ) @ ι)/alg.det(I)*(A-B*μ)\n",
    "    \n",
    "        return W\n",
    "    \n",
    "```"
   ]
  },
  {
   "cell_type": "code",
   "execution_count": 23,
   "id": "341b5c24",
   "metadata": {},
   "outputs": [],
   "source": [
    "#Vector of ones with length equal to the number of rows of the variance-covariance matrix\n",
    "ι = np.ones((Σ.shape[0]))\n",
    "    \n",
    "#Compute the information matrix\n",
    "A = μ.T @ alg.inv(Σ) @ μ \n",
    "B = ι.T @ alg.inv(Σ)@ μ\n",
    "C = ι.T @ alg.inv(Σ) @ ι\n",
    "    \n",
    "I = np.array([\n",
    "    [A , B],\n",
    "    [B , C]\n",
    "])"
   ]
  },
  {
   "cell_type": "code",
   "execution_count": 24,
   "id": "549cc6b8",
   "metadata": {},
   "outputs": [],
   "source": [
    "efficient_mv = EfficientFrontier(μ, Σ, weight_bounds=(-1,1))\n",
    "W = efficient_mv.efficient_return(0.001)\n",
    "W = np.array(list(W.values()))"
   ]
  },
  {
   "cell_type": "markdown",
   "id": "5340c3e4",
   "metadata": {},
   "source": [
    "#### Efficient Frontier"
   ]
  },
  {
   "cell_type": "code",
   "execution_count": 25,
   "id": "cd0f87bd",
   "metadata": {},
   "outputs": [],
   "source": [
    "def compute_mean_variance_frontier(I, mu_p):\n",
    "    \"\"\"\n",
    "    This function computes the minimum variance obtainable, according to \n",
    "    the Mean-Variance frontier, given the Information Matrix (I)\n",
    "    (which encodes the μ and Σ) and a target expected return (mu_p)\n",
    "    \n",
    "    \"\"\"\n",
    "    \n",
    "    \n",
    "    A = I[0, 0]\n",
    "    B = I[1, 0]\n",
    "    C = I[1, 1]\n",
    "        \n",
    "    variance_p = 1/(A*C-B**2)*(A - 2*B*mu_p + C*mu_p**2)  \n",
    "    return variance_p   "
   ]
  },
  {
   "cell_type": "code",
   "execution_count": 26,
   "id": "94386ff6",
   "metadata": {},
   "outputs": [
    {
     "name": "stdout",
     "output_type": "stream",
     "text": [
      "The minimum variance point on the efficient frontier has E(R) = 0.000334 and σ = 0.000079\n"
     ]
    }
   ],
   "source": [
    "A = I[0, 0]\n",
    "B = I[1, 0]\n",
    "C = I[1, 1]\n",
    "\n",
    "print(f\"The minimum variance point on the efficient frontier has E(R) = {B/C:.6f} and σ = {1/C:.6f}\")"
   ]
  },
  {
   "cell_type": "code",
   "execution_count": 27,
   "id": "d967e748",
   "metadata": {},
   "outputs": [
    {
     "data": {
      "image/png": "[encoded data removed]",
      "text/plain": [
       "<Figure size 432x288 with 1 Axes>"
      ]
     },
     "metadata": {
      "needs_background": "light"
     },
     "output_type": "display_data"
    }
   ],
   "source": [
    "mu_p_top = np.linspace(B/C, 0.003, 100)\n",
    "variance_p_top = compute_mean_variance_frontier(I, mu_p_top)\n",
    "\n",
    "\n",
    "fig, ax = plt.subplots()\n",
    "\n",
    "#Efficient frontier without constraints\n",
    "ax.plot(np.sqrt(variance_p_top),    mu_p_top,    color = \"tab:blue\")\n",
    "\n",
    "ax.set_xlim([0, 0.04])\n",
    "\n",
    "#Axes aesthetics\n",
    "ax.spines['left'].set_position('zero')\n",
    "ax.spines['right'].set_color('none')\n",
    "ax.spines['bottom'].set_position('zero')\n",
    "ax.spines['top'].set_color('none')\n",
    "\n",
    "plt.plot(1/np.sqrt(C), B/C, marker=\"o\", markersize=5, markeredgecolor=\"black\", markerfacecolor=\"red\")\n",
    "\n",
    "plt.xlabel(\"σ\",fontdict={\"fontsize\":15}, loc=\"right\")\n",
    "plt.ylabel(\"E(R)\")\n",
    "\n",
    "plt.title(\"Mean-Variance Frontier\");\n",
    "\n",
    "plt.savefig(\"figures/mean_variance_frontier.png\",dpi = 400) "
   ]
  },
  {
   "cell_type": "markdown",
   "id": "5c6224e9",
   "metadata": {},
   "source": [
    "### 6."
   ]
  },
  {
   "cell_type": "code",
   "execution_count": 28,
   "id": "499b1bee",
   "metadata": {},
   "outputs": [],
   "source": [
    "efficient_frontier = EfficientFrontier(μ, Σ, weight_bounds=(0, 1))"
   ]
  },
  {
   "cell_type": "code",
   "execution_count": 29,
   "id": "0faed2bb",
   "metadata": {},
   "outputs": [
    {
     "name": "stdout",
     "output_type": "stream",
     "text": [
      "[[0.01105532 0.17601003 0.         0.03322849 0.         0.033481\n",
      "  0.23497768 0.44554191 0.00944129 0.         0.05626428 0.        ]]\n"
     ]
    }
   ],
   "source": [
    "W_constrained = list(efficient_frontier.efficient_return(0.001).values())\n",
    "print(np.matrix(W_constrained))"
   ]
  },
  {
   "cell_type": "code",
   "execution_count": 30,
   "id": "ff8f1ece",
   "metadata": {},
   "outputs": [],
   "source": [
    "#Efficient frontier without constraints\n",
    "mu_p_top = np.linspace(B/C, 0.0018, 100)\n",
    "variance_p_top = compute_mean_variance_frontier(I, mu_p_top)\n",
    " \n",
    "#Efficient frontier with constraint    \n",
    "mu_p_top_constrained = np.linspace(B/C, 0.0015, 100)\n",
    "portfolios_constrained = map(efficient_frontier.efficient_return, mu_p_top_constrained)\n",
    "W_c_array = np.array([list(portfolio.values()) for portfolio in portfolios_constrained])\n",
    "variance_p_top_constrained = np.diag(W_c_array @ Σ @ W_c_array.T)"
   ]
  },
  {
   "cell_type": "code",
   "execution_count": 31,
   "id": "d186c9a9",
   "metadata": {},
   "outputs": [
    {
     "data": {
      "image/png": "[encoded data removed]",
      "text/plain": [
       "<Figure size 432x288 with 1 Axes>"
      ]
     },
     "metadata": {
      "needs_background": "light"
     },
     "output_type": "display_data"
    }
   ],
   "source": [
    "fig, ax = plt.subplots()\n",
    "\n",
    "#Efficient frontier without constraints plotting\n",
    "ax.plot(np.sqrt(variance_p_top),    mu_p_top,    color = \"tab:blue\")\n",
    "\n",
    "#Efficient frontier with constraint plotting\n",
    "ax.plot(np.sqrt(variance_p_top_constrained), mu_p_top_constrained, color = \"red\", alpha=0.8)\n",
    "\n",
    "ax.set_xlim([0, 0.04])\n",
    "ax.set_ylim([0, 0.002])\n",
    "\n",
    "#Axes aesthetics\n",
    "ax.spines['left'].set_position('zero')\n",
    "ax.spines['right'].set_color('none')\n",
    "ax.spines['bottom'].set_position('zero')\n",
    "ax.spines['top'].set_color('none')\n",
    "\n",
    "plt.plot(1/np.sqrt(C), B/C, marker=\"o\", markersize=5, markeredgecolor=\"black\", markerfacecolor=\"red\")\n",
    "\n",
    "#Labels\n",
    "plt.xlabel(\"σ\",fontdict={\"fontsize\":15}, loc=\"right\")\n",
    "plt.ylabel(\"E(R)\")\n",
    "\n",
    ";\n",
    "\n",
    "plt.savefig(\"figures/mean_variance_frontier_constrained.png\",dpi = 400,) "
   ]
  },
  {
   "cell_type": "markdown",
   "id": "514bc97a",
   "metadata": {},
   "source": [
    "### 7."
   ]
  },
  {
   "cell_type": "code",
   "execution_count": 32,
   "id": "6582a993",
   "metadata": {},
   "outputs": [],
   "source": [
    "def coskew(df):\n",
    "    \n",
    "    # Number of stocks\n",
    "    num = len(df.columns)\n",
    "    \n",
    "    # Two dimionsal matrix for tensor product \n",
    "    mtx = np.zeros(shape = (len(df), num**2))\n",
    "    \n",
    "    v = df.values\n",
    "    means = v.mean(0,keepdims=True)\n",
    "    v1 = (v-means).T\n",
    "    \n",
    "    for i in range(num):\n",
    "        for j in range(num):\n",
    "                vals = v1[i]*v1[j]\n",
    "                mtx[:,(i*num)+j] = vals/float((len(df)-1)*df.iloc[:,i].std()*df.iloc[:,j].std())\n",
    "    \n",
    "    #coskewness matrix\n",
    "    m3 = np.dot(v1,mtx)\n",
    "    \n",
    "    #Normalize by dividing by standard deviation\n",
    "    for i in range(num**2):\n",
    "        use = i%num\n",
    "        m3[:,i] = m3[:,i]/float(df.iloc[:,use].std())\n",
    "    \n",
    "    return m3"
   ]
  },
  {
   "cell_type": "code",
   "execution_count": 33,
   "id": "4966e103",
   "metadata": {},
   "outputs": [],
   "source": [
    "def cokurt(df):\n",
    "    # Number of stocks\n",
    "    num = len(df.columns)\n",
    "    \n",
    "    #First Tensor Product Matrix\n",
    "    mtx1 = np.zeros(shape = (len(df), num**2))\n",
    "    \n",
    "    #Second Tensor Product Matrix\n",
    "    mtx2 = np.zeros(shape = (len(df), num**3))\n",
    "    \n",
    "    v = df.values\n",
    "    means = v.mean(0,keepdims=True)\n",
    "    v1 = (v-means).T\n",
    "\n",
    "    for k in range(num):\n",
    "        for i in range(num):\n",
    "            for j in range(num):\n",
    "                    vals = v1[i]*v1[j]*v1[k]\n",
    "                    mtx2[:,(k*(num**2))+(i*num)+j] = vals/float((len(df)-1)*df.iloc[:,i].std()*\\\n",
    "                                                                df.iloc[:,j].std()*df.iloc[:,k].std())\n",
    "\n",
    "    m4 = np.dot(v1,mtx2)\n",
    "    for i in range(num**3):\n",
    "        use = i%num\n",
    "        m4[:,i] = m4[:,i]/float(df.iloc[:,use].std())\n",
    "        \n",
    "    return m4\n",
    "\n"
   ]
  },
  {
   "cell_type": "code",
   "execution_count": 34,
   "id": "f8bf261b-9108-48f3-89d1-474e30ab22a6",
   "metadata": {},
   "outputs": [],
   "source": [
    "def portfolio_statistics(W, μ, Σ):\n",
    "    stats = {}\n",
    "    stats[\"Mean\"] = np.sum(μ * W)\n",
    "    \n",
    "    stats[\"Variance\"] = np.dot(W.T, np.dot(Σ, W))\n",
    "    \n",
    "    stats[\"Standard Deviation\"] = np.sqrt(stats[\"Variance\"])\n",
    "    \n",
    "    m3 = coskew(stocks_daily_returns[securities].dropna())\n",
    "    stats[\"Skewness\"] = np.dot(W.T, np.dot(m3,np.kron(W,W)))\n",
    "\n",
    "    m4 = cokurt(stocks_daily_returns[securities].dropna())\n",
    "    stats[\"Kurtosis\"] = np.dot(W.T, np.dot(m4,np.kron(W,np.kron(W,W))))\n",
    "    return stats\n",
    "\n"
   ]
  },
  {
   "cell_type": "code",
   "execution_count": 35,
   "id": "b9102344",
   "metadata": {},
   "outputs": [
    {
     "data": {
      "text/plain": [
       "{'Mean': 0.0010000000000000002,\n",
       " 'Variance': 0.00017748719973567073,\n",
       " 'Standard Deviation': 0.01332243220045314,\n",
       " 'Skewness': 0.10204814319964339,\n",
       " 'Kurtosis': 0.7118680571645606}"
      ]
     },
     "execution_count": 35,
     "metadata": {},
     "output_type": "execute_result"
    }
   ],
   "source": [
    "portfolio_statistics(W, μ, Σ) "
   ]
  },
  {
   "cell_type": "markdown",
   "id": "e4690f24-fbf1-4b93-a2d5-2b4bcedf3772",
   "metadata": {},
   "source": [
    "#### Constrained Portfolio Statistics"
   ]
  },
  {
   "cell_type": "code",
   "execution_count": 36,
   "id": "268cc853-57ca-4140-9bbb-18df5ad06eb5",
   "metadata": {},
   "outputs": [
    {
     "data": {
      "text/plain": [
       "{'Mean': 0.001,\n",
       " 'Variance': 0.00020244880155769339,\n",
       " 'Standard Deviation': 0.014228450427143968,\n",
       " 'Skewness': 0.15599270626300593,\n",
       " 'Kurtosis': 1.0897730973376225}"
      ]
     },
     "execution_count": 36,
     "metadata": {},
     "output_type": "execute_result"
    }
   ],
   "source": [
    "portfolio_statistics(np.array(W_constrained), μ, Σ) "
   ]
  },
  {
   "cell_type": "markdown",
   "id": "39038af2",
   "metadata": {},
   "source": [
    "### 9."
   ]
  },
  {
   "cell_type": "code",
   "execution_count": 37,
   "id": "e1dc5394",
   "metadata": {},
   "outputs": [],
   "source": [
    "#Read excel and remove first two rows\n",
    "\n",
    "ftse_daily = pd.read_excel(\"data for exam 2022.xlsx\", \"ftse italia all share daily\", index_col = \"Name\", )\n",
    "ftse_daily = ftse_daily.iloc[2:]\n",
    "ftse_daily = ftse_daily.astype(\"float32\")\n"
   ]
  },
  {
   "cell_type": "code",
   "execution_count": 38,
   "id": "4a8f7ce0",
   "metadata": {},
   "outputs": [
    {
     "data": {
      "text/html": [
       "<div>\n",
       "<style scoped>\n",
       "    .dataframe tbody tr th:only-of-type {\n",
       "        vertical-align: middle;\n",
       "    }\n",
       "\n",
       "    .dataframe tbody tr th {\n",
       "        vertical-align: top;\n",
       "    }\n",
       "\n",
       "    .dataframe thead th {\n",
       "        text-align: right;\n",
       "    }\n",
       "</style>\n",
       "<table border=\"1\" class=\"dataframe\">\n",
       "  <thead>\n",
       "    <tr style=\"text-align: right;\">\n",
       "      <th></th>\n",
       "      <th>FTSE ITALIA ALL SHARE - PRICE INDEX</th>\n",
       "    </tr>\n",
       "    <tr>\n",
       "      <th>Name</th>\n",
       "      <th></th>\n",
       "    </tr>\n",
       "  </thead>\n",
       "  <tbody>\n",
       "    <tr>\n",
       "      <th>01/01/2015</th>\n",
       "      <td>NaN</td>\n",
       "    </tr>\n",
       "    <tr>\n",
       "      <th>02/01/2015</th>\n",
       "      <td>0.006858</td>\n",
       "    </tr>\n",
       "    <tr>\n",
       "      <th>05/01/2015</th>\n",
       "      <td>-0.044704</td>\n",
       "    </tr>\n",
       "    <tr>\n",
       "      <th>06/01/2015</th>\n",
       "      <td>-0.003546</td>\n",
       "    </tr>\n",
       "    <tr>\n",
       "      <th>07/01/2015</th>\n",
       "      <td>-0.001583</td>\n",
       "    </tr>\n",
       "    <tr>\n",
       "      <th>...</th>\n",
       "      <td>...</td>\n",
       "    </tr>\n",
       "    <tr>\n",
       "      <th>23/06/2022</th>\n",
       "      <td>-0.007977</td>\n",
       "    </tr>\n",
       "    <tr>\n",
       "      <th>24/06/2022</th>\n",
       "      <td>0.022661</td>\n",
       "    </tr>\n",
       "    <tr>\n",
       "      <th>27/06/2022</th>\n",
       "      <td>-0.007719</td>\n",
       "    </tr>\n",
       "    <tr>\n",
       "      <th>28/06/2022</th>\n",
       "      <td>0.007442</td>\n",
       "    </tr>\n",
       "    <tr>\n",
       "      <th>29/06/2022</th>\n",
       "      <td>-0.011970</td>\n",
       "    </tr>\n",
       "  </tbody>\n",
       "</table>\n",
       "<p>1955 rows × 1 columns</p>\n",
       "</div>"
      ],
      "text/plain": [
       "            FTSE ITALIA ALL SHARE - PRICE INDEX\n",
       "Name                                           \n",
       "01/01/2015                                  NaN\n",
       "02/01/2015                             0.006858\n",
       "05/01/2015                            -0.044704\n",
       "06/01/2015                            -0.003546\n",
       "07/01/2015                            -0.001583\n",
       "...                                         ...\n",
       "23/06/2022                            -0.007977\n",
       "24/06/2022                             0.022661\n",
       "27/06/2022                            -0.007719\n",
       "28/06/2022                             0.007442\n",
       "29/06/2022                            -0.011970\n",
       "\n",
       "[1955 rows x 1 columns]"
      ]
     },
     "execution_count": 38,
     "metadata": {},
     "output_type": "execute_result"
    }
   ],
   "source": [
    "ftse_daily_returns = ftse_daily.pct_change()\n",
    "\n",
    "ftse_daily_returns.to_excel(\"FTSE_Returns.xlsx\")\n",
    "ftse_daily_returns"
   ]
  },
  {
   "cell_type": "markdown",
   "id": "7361c6ab",
   "metadata": {},
   "source": [
    "#### Mean"
   ]
  },
  {
   "cell_type": "code",
   "execution_count": 39,
   "id": "5e017458",
   "metadata": {
    "scrolled": true
   },
   "outputs": [
    {
     "name": "stdout",
     "output_type": "stream",
     "text": [
      "Mean: 0.00018701027147471905\n"
     ]
    }
   ],
   "source": [
    "ftse_daily_mean = ftse_daily_returns.mean()\n",
    "print(f\"Mean: {ftse_daily_mean[0]}\")"
   ]
  },
  {
   "cell_type": "markdown",
   "id": "606c8879",
   "metadata": {},
   "source": [
    "#### Standard Deviation"
   ]
  },
  {
   "cell_type": "code",
   "execution_count": 40,
   "id": "1caf05d8",
   "metadata": {},
   "outputs": [
    {
     "name": "stdout",
     "output_type": "stream",
     "text": [
      "Standard Deviation: 0.014032217673957348\n"
     ]
    }
   ],
   "source": [
    "ftse_daily_std = ftse_daily_returns.std()\n",
    "\n",
    "print(f\"Standard Deviation: {ftse_daily_std[0]}\")"
   ]
  },
  {
   "cell_type": "markdown",
   "id": "03452b13",
   "metadata": {},
   "source": [
    "#### Variance"
   ]
  },
  {
   "cell_type": "code",
   "execution_count": 41,
   "id": "1307cc9b",
   "metadata": {
    "scrolled": true
   },
   "outputs": [
    {
     "name": "stdout",
     "output_type": "stream",
     "text": [
      "Variance: 0.00019690312910825014\n"
     ]
    }
   ],
   "source": [
    "ftse_daily_var = ftse_daily_returns.var()\n",
    "\n",
    "print(f\"Variance: {ftse_daily_var[0]}\")"
   ]
  },
  {
   "cell_type": "markdown",
   "id": "c1e8a93a",
   "metadata": {},
   "source": [
    "#### Skewness"
   ]
  },
  {
   "cell_type": "code",
   "execution_count": 42,
   "id": "262aaf67",
   "metadata": {},
   "outputs": [
    {
     "name": "stdout",
     "output_type": "stream",
     "text": [
      "Skewness: -1.3915475606918335\n"
     ]
    }
   ],
   "source": [
    "ftse_daily_skew = ftse_daily_returns.skew()\n",
    "\n",
    "print(f\"Skewness: {ftse_daily_skew[0]}\")"
   ]
  },
  {
   "cell_type": "markdown",
   "id": "42ca5919",
   "metadata": {},
   "source": [
    "#### Kurtosis"
   ]
  },
  {
   "cell_type": "code",
   "execution_count": 43,
   "id": "b0e8ca47",
   "metadata": {},
   "outputs": [
    {
     "name": "stdout",
     "output_type": "stream",
     "text": [
      "Kurtosis: 15.830971717834473\n"
     ]
    }
   ],
   "source": [
    "ftse_daily_kurtosis = ftse_daily_returns.kurtosis()\n",
    "\n",
    "print(f\"Kurtosis: {ftse_daily_kurtosis[0]}\")"
   ]
  },
  {
   "cell_type": "markdown",
   "id": "98a33e7d",
   "metadata": {},
   "source": [
    "### 10."
   ]
  },
  {
   "cell_type": "code",
   "execution_count": 44,
   "id": "97ec4cc4",
   "metadata": {},
   "outputs": [
    {
     "name": "stdout",
     "output_type": "stream",
     "text": [
      "The beta for PININFARINA is 0.6577\n",
      "The beta for BORGOSESIA RSP DEAD  is 0.0982\n",
      "The beta for FULLSIX is 0.3868\n",
      "The beta for VIANINI INDR. is 0.1105\n",
      "The beta for MONRIF is 0.3187\n",
      "The beta for ECOSUNTEK is 0.2794\n",
      "The beta for SABAF is 0.3973\n",
      "The beta for ALERION CLEAN POWER is 0.4210\n",
      "The beta for VINCENZO ZUCCHI is 0.6645\n",
      "The beta for BANCA INTERMOBILIARE DEAD is 0.5235\n",
      "The beta for ENERVIT is 0.2774\n",
      "The beta for ASTALDI  is 0.8462\n"
     ]
    }
   ],
   "source": [
    "betas = {}\n",
    "\n",
    "for security in securities:\n",
    "    \n",
    "    beta, alpha = stats.linregress(x=ftse_daily_returns[1:1952].iloc[:,0],\n",
    "                y=[*stocks_daily_returns[security][1:].values])[0:2]\n",
    "                \n",
    "    betas[security] = beta\n",
    "    \n",
    "    print(f\"The beta for {security} is {beta:.4f}\")"
   ]
  },
  {
   "cell_type": "code",
   "execution_count": 45,
   "id": "73d6b63a",
   "metadata": {
    "scrolled": true
   },
   "outputs": [
    {
     "name": "stdout",
     "output_type": "stream",
     "text": [
      "The beta for the Portfolio is 0.2878\n"
     ]
    }
   ],
   "source": [
    "portfolio_returns = (stocks_daily_returns[securities]*W).sum(axis=1)\n",
    "\n",
    "(beta_portfolio, alpha) = stats.linregress(x=ftse_daily_returns[1:1952].iloc[:,0],\n",
    "             y= [*portfolio_returns.values][1:])[0:2]\n",
    "                \n",
    "\n",
    "print(f\"The beta for the Portfolio is {beta_portfolio:.4f}\")"
   ]
  },
  {
   "cell_type": "markdown",
   "id": "6c46ad49",
   "metadata": {},
   "source": [
    "### 11."
   ]
  },
  {
   "cell_type": "code",
   "execution_count": 46,
   "id": "15dede0b",
   "metadata": {},
   "outputs": [],
   "source": [
    "#Convert anual rate to daily\n",
    "risk_free_rate_daily = 1.0005**(1/365)-1"
   ]
  },
  {
   "cell_type": "code",
   "execution_count": 47,
   "id": "9286eace",
   "metadata": {},
   "outputs": [
    {
     "name": "stdout",
     "output_type": "stream",
     "text": [
      "SML Portfolio: 0.00005479\n",
      "SML Pininfarina: 0.00012346\n",
      "SML Fullsix: 0.00007318\n"
     ]
    }
   ],
   "source": [
    "SML_portfolio = risk_free_rate_daily + (ftse_daily_mean - risk_free_rate_daily) * beta_portfolio\n",
    "SML_pininfarina = risk_free_rate_daily + (ftse_daily_mean - risk_free_rate_daily) * betas[\"PININFARINA\"]\n",
    "SML_fullsix = risk_free_rate_daily + (ftse_daily_mean  - risk_free_rate_daily) * betas[\"FULLSIX\"]\n",
    "\n",
    "return_portfolio = 0.001\n",
    "return_pininfarina = stocks_daily_mean[\"PININFARINA\"]\n",
    "return_fullsix = stocks_daily_mean[\"FULLSIX\"]\n",
    "\n",
    "print(f\"SML Portfolio: {SML_portfolio.values[0]:.8f}\")\n",
    "print(f\"SML Pininfarina: {SML_pininfarina.values[0]:.8f}\")\n",
    "print(f\"SML Fullsix: {SML_fullsix.values[0]:.8f}\")"
   ]
  },
  {
   "cell_type": "code",
   "execution_count": 48,
   "id": "c45fa4b2",
   "metadata": {},
   "outputs": [
    {
     "name": "stderr",
     "output_type": "stream",
     "text": [
      "/home/santiago/miniconda3/lib/python3.9/site-packages/numpy/core/shape_base.py:65: VisibleDeprecationWarning: Creating an ndarray from ragged nested sequences (which is a list-or-tuple of lists-or-tuples-or ndarrays with different lengths or shapes) is deprecated. If you meant to do this, you must specify 'dtype=object' when creating the ndarray.\n",
      "  ary = asanyarray(ary)\n"
     ]
    },
    {
     "data": {
      "image/png": "[encoded data removed]",
      "text/plain": [
       "<Figure size 432x288 with 1 Axes>"
      ]
     },
     "metadata": {
      "needs_background": "light"
     },
     "output_type": "display_data"
    }
   ],
   "source": [
    "fig, ax = plt.subplots()\n",
    "\n",
    "#Security Market Line\n",
    "plt.plot([0,1], (risk_free_rate_daily, ftse_daily_mean), 'k', label=\"SML\")\n",
    "\n",
    "#Portfolio and Securities\n",
    "plt.plot(1, ftse_daily_mean, 'ko', label=\"Market\")\n",
    "\n",
    "#Returns\n",
    "plt.plot(beta_portfolio, return_portfolio, 'gs', label=\"Portfolio\")\n",
    "plt.plot(betas[\"PININFARINA\"],  return_pininfarina, 'bs', label=\"Pininfarina\")\n",
    "plt.plot(betas[\"FULLSIX\"], return_fullsix, 'rs', label=\"Fullsix\")\n",
    "\n",
    "#Proyection over the SML\n",
    "plt.plot(beta_portfolio, SML_portfolio, 'go')\n",
    "plt.plot(betas[\"PININFARINA\"],  SML_pininfarina, 'bo')\n",
    "plt.plot(betas[\"FULLSIX\"], SML_fullsix, 'r.')\n",
    "\n",
    "#Dashed lines\n",
    "plt.vlines(beta_portfolio, SML_portfolio, return_portfolio, 'g', linestyle = \"dashed\")\n",
    "plt.vlines(betas[\"PININFARINA\"], SML_pininfarina, return_pininfarina, 'b', linestyle = \"dashed\")\n",
    "plt.vlines(betas[\"FULLSIX\"], SML_fullsix, return_fullsix, 'r', linestyle = \"dashed\")\n",
    "           \n",
    "#Axes aesthetics\n",
    "ax.spines['left'].set_position('zero')\n",
    "ax.spines['right'].set_color('none')\n",
    "ax.spines['bottom'].set_position('zero')\n",
    "ax.spines['top'].set_color('none')\n",
    "\n",
    "ax.set_xlabel(\"β\", fontsize=15, loc=\"right\")\n",
    "ax.set_ylabel(\"E(R)\", fontsize=14)\n",
    "\n",
    "ax.plot(0, risk_free_rate_daily, \"*\", color=\"purple\", markersize = 12, label = \"Risk Free Rate\")\n",
    "\n",
    "ax.legend(bbox_to_anchor=(0.6, 1));\n",
    "\n",
    "plt.savefig(\"figures/Security_Market_Line.png\",dpi = 400,) "
   ]
  },
  {
   "cell_type": "markdown",
   "id": "10618efe",
   "metadata": {},
   "source": [
    "### 12."
   ]
  },
  {
   "cell_type": "code",
   "execution_count": 49,
   "id": "785e40f8",
   "metadata": {},
   "outputs": [],
   "source": [
    "#We set the risk aversion coefficient to 3\n",
    "γ =  3"
   ]
  },
  {
   "cell_type": "code",
   "execution_count": 50,
   "id": "1004a0c3",
   "metadata": {},
   "outputs": [],
   "source": [
    "#Pick Matrix\n",
    "P = np.array([[0 ,0,0,0,0   ,  1,0,0  ,0 ,0   ,0,0],\n",
    "              [-1,0,0,0,0   ,  0,1,0  ,0 ,0   ,0,0],\n",
    "              [0 ,0,0,1,0   ,  0,0,0  ,-1,0   ,0,0],\n",
    "              [0 ,0,0,0,0   ,  0,0,0  ,0 ,0   ,1,0],\n",
    "              [0 ,0,0,0,-0.3,0.6,0,0.4,0 ,-0.7,0,0]])\n",
    "\n",
    "#Views\n",
    "Q = np.array([0.0009, 0.0007, 0.0009, -0.0006, 0.0015])"
   ]
  },
  {
   "cell_type": "code",
   "execution_count": 51,
   "id": "4253d54e",
   "metadata": {},
   "outputs": [],
   "source": [
    "bl = BlackLittermanModel(Σ, pi=μ, P=P, Q=Q)"
   ]
  },
  {
   "cell_type": "code",
   "execution_count": 52,
   "id": "e7bbf15c",
   "metadata": {},
   "outputs": [],
   "source": [
    "mu_bl = np.array(bl.bl_returns())\n",
    "covariance_bl = np.array(bl.bl_cov())\n",
    "\n",
    "W_bl = 1/γ * alg.inv(covariance_bl) @ mu_bl"
   ]
  },
  {
   "cell_type": "code",
   "execution_count": 53,
   "id": "4c0c7ed0",
   "metadata": {},
   "outputs": [
    {
     "name": "stdout",
     "output_type": "stream",
     "text": [
      "The mean return for the Black-Litterman portfolio is 0.002010\n",
      "The variance for the Black-Litterman portfolio is 0.000670\n",
      "The volatility for the Black-Litterman portfolio is 0.025885\n",
      "The skewness for the Black-Litterman portfolio is 0.756987\n",
      "The kurtosis for the Black-Litterman portfolio is 7.937806\n",
      "The Sharpe Ratio for the Black-Litterman portfolio is 0.077602\n"
     ]
    }
   ],
   "source": [
    "bl_stats = portfolio_statistics(W_bl, mu_bl, covariance_bl) \n",
    "sharpe_ratio_bl = (bl_stats['Mean'] - risk_free_rate_daily)/bl_stats['Standard Deviation']\n",
    "\n",
    "print(f\"The mean return for the Black-Litterman portfolio is {bl_stats['Mean']:.6f}\")\n",
    "print(f\"The variance for the Black-Litterman portfolio is {bl_stats['Variance']:.6f}\")\n",
    "print(f\"The volatility for the Black-Litterman portfolio is {bl_stats['Standard Deviation']:.6f}\")\n",
    "print(f\"The skewness for the Black-Litterman portfolio is {bl_stats['Skewness']:.6f}\")\n",
    "print(f\"The kurtosis for the Black-Litterman portfolio is {bl_stats['Kurtosis']:.6f}\")\n",
    "print(f\"The Sharpe Ratio for the Black-Litterman portfolio is {sharpe_ratio_bl:.6f}\")"
   ]
  },
  {
   "cell_type": "markdown",
   "id": "1fc2e75b",
   "metadata": {},
   "source": [
    "### 13."
   ]
  },
  {
   "cell_type": "markdown",
   "id": "0deaf84e",
   "metadata": {},
   "source": [
    "#### Bayesian allocation"
   ]
  },
  {
   "cell_type": "code",
   "execution_count": 54,
   "id": "580c5435",
   "metadata": {},
   "outputs": [],
   "source": [
    "mu_prior = μ + stocks_daily_std[securities] \n",
    "covariance_prior = 2 * Σ\n",
    "T = stocks_daily_returns.shape[0]-1\n",
    "\n",
    "covariance_bayesian = alg.inv(T*alg.inv(Σ) + alg.inv(covariance_prior))\n",
    "mu_bayesian = covariance_bayesian @ (T* alg.inv(Σ) @ μ + alg.inv(covariance_prior) @ mu_prior)\n",
    "\n",
    "W_bayesian = 1/γ * (alg.inv(covariance_bayesian) @ mu_bayesian)"
   ]
  },
  {
   "cell_type": "code",
   "execution_count": 55,
   "id": "57780f53",
   "metadata": {},
   "outputs": [
    {
     "name": "stdout",
     "output_type": "stream",
     "text": [
      "The mean return for the Bayesian portfolio is 3.8810\n",
      "The variance for the Bayesian portfolio is 1.2937\n",
      "The volatility for the Bayesian portfolio is 1.1374\n",
      "The skewness for the Bayesian portfolio is 6086301923.7130\n",
      "The kurtosis for the Bayesian portfolio is 127436718270185.1406\n",
      "The Sharpe Ratio for the Bayesian portfolio is 3.4122\n"
     ]
    }
   ],
   "source": [
    "bayesian_stats = portfolio_statistics(W_bayesian, mu_bayesian, covariance_bayesian) \n",
    "sharpe_ratio_bayesian = (bayesian_stats['Mean'] - risk_free_rate_daily)/bayesian_stats['Standard Deviation']\n",
    "\n",
    "print(f\"The mean return for the Bayesian portfolio is {bayesian_stats['Mean']:.4f}\")\n",
    "print(f\"The variance for the Bayesian portfolio is {bayesian_stats['Variance']:.4f}\")\n",
    "print(f\"The volatility for the Bayesian portfolio is {bayesian_stats['Standard Deviation']:.4f}\")\n",
    "print(f\"The skewness for the Bayesian portfolio is {bayesian_stats['Skewness']:.4f}\")\n",
    "print(f\"The kurtosis for the Bayesian portfolio is {bayesian_stats['Kurtosis']:.4f}\")\n",
    "print(f\"The Sharpe Ratio for the Bayesian portfolio is {sharpe_ratio_bayesian:.4f}\")"
   ]
  },
  {
   "cell_type": "code",
   "execution_count": 56,
   "id": "ba9a3814",
   "metadata": {},
   "outputs": [
    {
     "data": {
      "text/plain": [
       "array([  94.51092484,  579.53358133,   38.49688522,  177.38818536,\n",
       "       -513.65998926,  158.20130911,  850.1685221 , 1456.3267148 ,\n",
       "         78.2557586 , -186.49856252,  327.47087939, -266.27151185])"
      ]
     },
     "execution_count": 56,
     "metadata": {},
     "output_type": "execute_result"
    }
   ],
   "source": [
    "W_bayesian"
   ]
  },
  {
   "cell_type": "markdown",
   "id": "edd80b84",
   "metadata": {},
   "source": [
    "#### Jorion allocation"
   ]
  },
  {
   "cell_type": "code",
   "execution_count": 57,
   "id": "2377eaec",
   "metadata": {},
   "outputs": [],
   "source": [
    "W_minimum_variance = (alg.inv(Σ) @ ι) / (ι.T @ alg.inv(Σ) @ ι) \n",
    "mu_minimum_variance = B/C\n",
    "minimum_variance = 1/C\n",
    "\n",
    "N = len(securities)\n",
    "\n",
    "covariance_estimator = T*Σ/(T-N-2)\n",
    "\n",
    "h = (N+2)/((μ - mu_minimum_variance).T @ alg.inv(covariance_estimator) @ (μ - mu_minimum_variance))\n",
    "δ = h/(h+T)"
   ]
  },
  {
   "cell_type": "code",
   "execution_count": 58,
   "id": "cd986abf",
   "metadata": {},
   "outputs": [],
   "source": [
    "mu_jorion = (1-δ)*μ + δ*mu_minimum_variance\n",
    "covariance_jorion = (1+1/(T+h)) * covariance_estimator + h/(T*(T+1+h)) * (np.ones([12,12])/(ι.T@alg.inv(covariance_estimator)@ι))\n",
    "\n",
    "W_jorion = 1/γ * (alg.inv(covariance_jorion) @ mu_jorion)"
   ]
  },
  {
   "cell_type": "code",
   "execution_count": 59,
   "id": "9a06f3c9",
   "metadata": {},
   "outputs": [
    {
     "name": "stdout",
     "output_type": "stream",
     "text": [
      "The mean return for the Jorion portfolio is 0.000686\n",
      "The variance for the Jorion portfolio is 0.000229\n",
      "The volatility for the Jorion portfolio is 0.015125\n",
      "The skewness for the Jorion portfolio is 0.099654\n",
      "The kurtosis for the Jorion portfolio is 1.380471\n",
      "The Sharpe Ratio for the Jorion portfolio is 0.045284\n"
     ]
    }
   ],
   "source": [
    "jorion_stats = portfolio_statistics(W_jorion, mu_jorion, covariance_jorion) \n",
    "sharpe_ratio_jorion = (jorion_stats['Mean'] - risk_free_rate_daily)/jorion_stats['Standard Deviation']\n",
    "\n",
    "print(f\"The mean return for the Jorion portfolio is {jorion_stats['Mean']:.6f}\")\n",
    "print(f\"The variance for the Jorion portfolio is {jorion_stats['Variance']:.6f}\")\n",
    "print(f\"The volatility for the Jorion portfolio is {jorion_stats['Standard Deviation']:.6f}\")\n",
    "print(f\"The skewness for the Jorion portfolio is {jorion_stats['Skewness']:.6f}\")\n",
    "print(f\"The kurtosis for the Jorion portfolio is {jorion_stats['Kurtosis']:.6f}\")\n",
    "print(f\"The Sharpe Ratio for the Jorion portfolio is {sharpe_ratio_jorion:.6f}\")"
   ]
  },
  {
   "cell_type": "markdown",
   "id": "0b4545a3",
   "metadata": {},
   "source": [
    "### 14."
   ]
  },
  {
   "cell_type": "code",
   "execution_count": 60,
   "id": "c9c4e63f",
   "metadata": {},
   "outputs": [],
   "source": [
    "W_gmv = efficient_mv.efficient_return(B/C)\n",
    "W_gmv = np.array(list(W_gmv.values()))"
   ]
  },
  {
   "cell_type": "code",
   "execution_count": 61,
   "id": "ac058019",
   "metadata": {},
   "outputs": [
    {
     "name": "stdout",
     "output_type": "stream",
     "text": [
      "The mean return for the Global Minimum Variance portfolio is 0.000334\n",
      "The variance for the Global Minimum Variance portfolio is 0.000079\n",
      "The volatility for the Global Minimum Variance portfolio is 0.008894\n",
      "The skewness for the Global Minimum Variance portfolio is -0.010230\n",
      "The kurtosis for the Global Minimum Variance portfolio is 0.227249\n",
      "The Sharpe Ratio for the Global Minimum Variance portfolio is 0.037370\n"
     ]
    }
   ],
   "source": [
    "gmv_stats = portfolio_statistics(W_gmv, μ, Σ) \n",
    "sharpe_ratio_gmv = (B/C - risk_free_rate_daily)/(1/np.sqrt(C))\n",
    "\n",
    "\n",
    "\n",
    "print(f\"The mean return for the Global Minimum Variance portfolio is {gmv_stats['Mean']:.6f}\")\n",
    "print(f\"The variance for the Global Minimum Variance portfolio is {gmv_stats['Variance']:.6f}\")\n",
    "print(f\"The volatility for the Global Minimum Variance portfolio is {gmv_stats['Standard Deviation']:.6f}\")\n",
    "print(f\"The skewness for the Global Minimum Variance portfolio is {gmv_stats['Skewness']:.6f}\")\n",
    "print(f\"The kurtosis for the Global Minimum Variance portfolio is {gmv_stats['Kurtosis']:.6f}\")\n",
    "print(f\"The Sharpe Ratio for the Global Minimum Variance portfolio is {sharpe_ratio_gmv:.6f}\")"
   ]
  },
  {
   "cell_type": "markdown",
   "id": "6b3be183",
   "metadata": {},
   "source": [
    "### 15."
   ]
  },
  {
   "cell_type": "code",
   "execution_count": 62,
   "id": "5832b679",
   "metadata": {},
   "outputs": [],
   "source": [
    "W_chimera = (0.25 * np.array([W, W_bl, W_jorion, W_gmv])).sum(axis=0)"
   ]
  },
  {
   "cell_type": "code",
   "execution_count": 63,
   "id": "5c80b598",
   "metadata": {},
   "outputs": [
    {
     "name": "stdout",
     "output_type": "stream",
     "text": [
      "The mean return for the Chimera portfolio is 0.001051\n",
      "The variance for the Chimera portfolio is 0.000205\n",
      "The volatility for the Chimera portfolio is 0.014322\n",
      "The skewness for the Chimera portfolio is 0.123631\n",
      "The kurtosis for the Chimera portfolio is 0.997431\n",
      "The Sharpe Ratio for the Chimera portfolio is 0.073325\n"
     ]
    }
   ],
   "source": [
    "chimera_stats = portfolio_statistics(W_chimera, μ, Σ) \n",
    "sharpe_ratio_chimera = (chimera_stats['Mean'] - risk_free_rate_daily)/chimera_stats['Standard Deviation']\n",
    " \n",
    "print(f\"The mean return for the Chimera portfolio is {chimera_stats['Mean']:.6f}\")\n",
    "print(f\"The variance for the Chimera portfolio is {chimera_stats['Variance']:.6f}\")\n",
    "print(f\"The volatility for the Chimera portfolio is {chimera_stats['Standard Deviation']:.6f}\")\n",
    "print(f\"The skewness for the Chimera portfolio is {chimera_stats['Skewness']:.6f}\")\n",
    "print(f\"The kurtosis for the Chimera portfolio is {chimera_stats['Kurtosis']:.6f}\")\n",
    "print(f\"The Sharpe Ratio for the Chimera portfolio is {sharpe_ratio_chimera:.6f}\")"
   ]
  },
  {
   "cell_type": "markdown",
   "id": "bbb39e74-884d-48d2-807b-78e1cb85f3f0",
   "metadata": {},
   "source": [
    "### Save some data to .xlsx files"
   ]
  },
  {
   "cell_type": "code",
   "execution_count": 64,
   "id": "3c41a0ae-3074-4908-9cc4-b13cadb240d9",
   "metadata": {},
   "outputs": [],
   "source": [
    "if not os.path.exists(\"estimations\"):\n",
    "    os.makedirs(\"estimations\")\n",
    "\n",
    "\n",
    "names = [\"MV\", \"Black-Litterman\", \"Bayesian\", \"Jorion\"]\n",
    "mus = [μ, mu_bl, mu_bayesian, mu_jorion]\n",
    "mus_dict = {}\n",
    "\n",
    "for i, mu in enumerate(mus):\n",
    "    mus_dict[names[i]] = mu\n",
    "    \n",
    "pd.DataFrame(mus_dict).to_excel(\"estimations/mus.xlsx\")"
   ]
  },
  {
   "cell_type": "code",
   "execution_count": 65,
   "id": "5780d9c1-83b3-4c25-9406-487593f77b48",
   "metadata": {},
   "outputs": [],
   "source": [
    "covariances = [Σ, covariance_bl, covariance_bayesian, covariance_jorion]\n",
    "\n",
    "with pd.ExcelWriter('estimations/covariance.xlsx') as writer:\n",
    "    for i, covariance in enumerate(covariances):\n",
    "        df = pd.DataFrame(covariance)\n",
    "        df.to_excel(writer, sheet_name=f'{names[i]} covariance')\n"
   ]
  }
 ],
 "metadata": {
  "kernelspec": {
   "display_name": "Python 3 (ipykernel)",
   "language": "python",
   "name": "python3"
  },
  "language_info": {
   "codemirror_mode": {
    "name": "ipython",
    "version": 3
   },
   "file_extension": ".py",
   "mimetype": "text/x-python",
   "name": "python",
   "nbconvert_exporter": "python",
   "pygments_lexer": "ipython3",
   "version": "3.9.7"
  }
 },
 "nbformat": 4,
 "nbformat_minor": 5
}
